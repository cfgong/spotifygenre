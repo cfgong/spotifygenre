{
 "cells": [
  {
   "cell_type": "code",
   "execution_count": 1,
   "metadata": {},
   "outputs": [],
   "source": [
    "import pandas as pd\n",
    "import autograd.numpy as np\n",
    "from autograd import grad \n",
    "import matplotlib.pyplot as plt\n",
    "from common import gradient_descent, plot_cost_histories"
   ]
  },
  {
   "cell_type": "code",
   "execution_count": 2,
   "metadata": {},
   "outputs": [],
   "source": [
    "# Read data\n",
    "DATA_BASE_URL = \"https://raw.githubusercontent.com/sql-injection/spotify_data/master/\"\n",
    "datasets = {\n",
    "    \"train\": DATA_BASE_URL + \"train.csv\",\n",
    "    \"test\": DATA_BASE_URL + \"test.csv\",\n",
    "    \"all\": DATA_BASE_URL + \"spotify.csv\"\n",
    "}\n",
    "\n",
    "total_df = pd.read_csv(datasets[\"all\"])\n",
    "attribute_names = list(total_df)[:-1]\n",
    "x = total_df[attribute_names].values\n",
    "y = total_df[\"Class\"].values\n",
    "\n",
    "original_x = np.copy(x)\n",
    "original_y = np.copy(y)"
   ]
  },
  {
   "cell_type": "code",
   "execution_count": 3,
   "metadata": {},
   "outputs": [],
   "source": [
    "genre_histograms = {\n",
    "    \"edm\":       np.asarray([1, 0, 0, 0, 0, 0, 0]),\n",
    "    \"hiphop\":    np.asarray([0, 1, 0, 0, 0, 0, 0]),\n",
    "    \"classical\": np.asarray([0, 0, 1, 0, 0, 0, 0]),\n",
    "    \"jazz\":      np.asarray([0, 0, 0, 1, 0, 0, 0]),\n",
    "    \"pop\":       np.asarray([0, 0, 0, 0, 1, 0, 0]),\n",
    "    \"country\":   np.asarray([0, 0, 0, 0, 0, 1, 0]),\n",
    "    \"rock\":      np.asarray([0, 0, 0, 0, 0, 0, 1])\n",
    "}"
   ]
  },
  {
   "cell_type": "code",
   "execution_count": 4,
   "metadata": {},
   "outputs": [],
   "source": [
    "# Genre encoded into one-hot vectors\n",
    "y_encoded = np.array([genre_histograms[genre] for genre in y])"
   ]
  },
  {
   "cell_type": "code",
   "execution_count": 18,
   "metadata": {},
   "outputs": [
    {
     "data": {
      "image/png": "[encoded data removed]",
      "text/plain": [
       "<Figure size 432x288 with 1 Axes>"
      ]
     },
     "metadata": {
      "needs_background": "light"
     },
     "output_type": "display_data"
    }
   ],
   "source": [
    "feature_a_indices =  np.where(y == \"jazz\")[0]\n",
    "feature_b_indices = np.where(y == \"country\")[0]\n",
    "feature_a_color = \"cornflowerblue\";\n",
    "feature_b_color = \"salmon\";\n",
    "\n",
    "attribute_names = np.array(attribute_names)\n",
    "energy_attribute_index = np.where(attribute_names == \"acousticness\")[0][0]\n",
    "danceability_attribute_index = np.where(attribute_names == \"loudness\")[0][0]\n",
    "\n",
    "f = plt.figure()\n",
    "ax = plt.subplot()\n",
    "ax.set_xlabel(\"Acousticness\")\n",
    "ax.set_ylabel(\"Loudness\")\n",
    "ax.set_title(\"Classical Music (Blue) vs. Rock (Red) in terms of Acousticness and Loudness\")\n",
    "for i in feature_a_indices:\n",
    "    ax.scatter(original_x[i, energy_attribute_index],\n",
    "               original_x[i, danceability_attribute_index],\n",
    "               color=feature_a_color, edgecolor='k')\n",
    "    \n",
    "for i in feature_b_indices:\n",
    "    ax.scatter(original_x[i, energy_attribute_index],\n",
    "               original_x[i, danceability_attribute_index],\n",
    "               color=feature_b_color, edgecolor='k')\n",
    "plt.show()"
   ]
  },
  {
   "cell_type": "code",
   "execution_count": 52,
   "metadata": {},
   "outputs": [],
   "source": [
    "acousticness_column = 3; loudness_column = 6;\n",
    "X = np.concatenate((original_x[:, loudness_column][:, np.newaxis], original_x[:, acousticness_column][:, np.newaxis]), axis=1)\n",
    "included_indices = np.concatenate((feature_a_indices, feature_b_indices))\n",
    "X = np.take(X, included_indices, axis=0)\n",
    "Y = np.take(original_y, included_indices, axis=0)\n",
    "Y[Y == \"jazz\"] = 0\n",
    "Y[Y == \"country\"] = 1"
   ]
  },
  {
   "cell_type": "code",
   "execution_count": 53,
   "metadata": {},
   "outputs": [
    {
     "name": "stdout",
     "output_type": "stream",
     "text": [
      "(153, 2) (153, 1)\n"
     ]
    }
   ],
   "source": [
    "x = X\n",
    "y = Y[:, np.newaxis]\n",
    "print(x.shape, y.shape)"
   ]
  },
  {
   "cell_type": "code",
   "execution_count": 54,
   "metadata": {},
   "outputs": [],
   "source": [
    "def model(x, w):\n",
    "    a = w[0] + np.dot(x.T, w[1:])\n",
    "    return a.T\n",
    "\n",
    "lam = 10**-5  # our regularization paramter \n",
    "def multiclass_perceptron(w):        \n",
    "    # pre-compute predictions on all points\n",
    "    all_evals = model(x.T, w)\n",
    "    \n",
    "    # compute maximum across data points\n",
    "    a = np.max(all_evals,axis = 0)    \n",
    "\n",
    "    # compute cost in compact form using numpy broadcasting\n",
    "    b = all_evals[y.astype(int).flatten(),np.arange(np.size(y))]\n",
    "    cost = np.sum(a - b)\n",
    "    \n",
    "    # add regularizer\n",
    "    cost = cost + lam*np.linalg.norm(w[1:,:],'fro')**2\n",
    "    \n",
    "    # return average\n",
    "    return cost/float(np.size(y))\n",
    "                              "
   ]
  },
  {
   "cell_type": "code",
   "execution_count": 89,
   "metadata": {},
   "outputs": [],
   "source": [
    "w = 0.1 * np.random.randn(3, 153)\n",
    "learning_rate = 10**(-2)\n",
    "g = multiclass_perceptron\n",
    "max_its = 300"
   ]
  },
  {
   "cell_type": "code",
   "execution_count": 90,
   "metadata": {},
   "outputs": [],
   "source": [
    "weight_history, cost_history = gradient_descent(g, learning_rate, max_its, w)"
   ]
  },
  {
   "cell_type": "code",
   "execution_count": 91,
   "metadata": {},
   "outputs": [
    {
     "data": {
      "image/png": "[encoded data removed]",
      "text/plain": [
       "<Figure size 432x288 with 1 Axes>"
      ]
     },
     "metadata": {
      "needs_background": "light"
     },
     "output_type": "display_data"
    }
   ],
   "source": [
    "plot_cost_histories(cost_histories=[cost_history], labels=[\"Cost history 1\"])"
   ]
  },
  {
   "cell_type": "code",
   "execution_count": 92,
   "metadata": {},
   "outputs": [],
   "source": [
    "# Find best weight\n",
    "best_idx = np.argmin(cost_history)\n",
    "best_weight = weight_history[best_idx]"
   ]
  },
  {
   "cell_type": "code",
   "execution_count": 93,
   "metadata": {},
   "outputs": [],
   "source": [
    "def fusion_rule(x, w):\n",
    "    return np.argmax(model(x, w))"
   ]
  },
  {
   "cell_type": "code",
   "execution_count": 94,
   "metadata": {},
   "outputs": [],
   "source": [
    "def num_misclassifications(best_weight):\n",
    "    points_count = len(x)\n",
    "\n",
    "    miscounts = 0\n",
    "    for p in range(points_count):\n",
    "        x_val = np.array([x[p, 0], x[p, 1]])\n",
    "        if fusion_rule(x_val, best_weight) != y[p]:\n",
    "            miscounts = miscounts + 1\n",
    "    \n",
    "    return miscounts"
   ]
  },
  {
   "cell_type": "code",
   "execution_count": 95,
   "metadata": {},
   "outputs": [
    {
     "name": "stdout",
     "output_type": "stream",
     "text": [
      "Out of 153 points, the number of misclassifications is 0\n"
     ]
    }
   ],
   "source": [
    "print(\"Out of {0} points, the number of misclassifications is {1}\".format(len(x), num_misclassifications(best_weight)))"
   ]
  }
 ],
 "metadata": {
  "kernelspec": {
   "display_name": "Python 3",
   "language": "python",
   "name": "python3"
  },
  "language_info": {
   "codemirror_mode": {
    "name": "ipython",
    "version": 3
   },
   "file_extension": ".py",
   "mimetype": "text/x-python",
   "name": "python",
   "nbconvert_exporter": "python",
   "pygments_lexer": "ipython3",
   "version": "3.6.4"
  }
 },
 "nbformat": 4,
 "nbformat_minor": 2
}
