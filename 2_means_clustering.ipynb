{
 "cells": [
  {
   "cell_type": "markdown",
   "metadata": {},
   "source": [
    "#### K-Means Clustering over 2 Dimensions\n",
    "In this exercise, we experiment with K-Means clustering of two genres (k = 2) over 2 attributes (dim = 2). We use the Scikit Learn Clustering library to produce centroids for each genre and determine if there exists a natural clustering of genre. The genres we are working with are classical and rock. The attributes we choose to cluster over are energy $X$ and danceability $Y$. \n",
    "\n",
    "We then attempt to identify misclassified data points and add a description as to why they have been misclassifed."
   ]
  },
  {
   "cell_type": "code",
   "execution_count": 13,
   "metadata": {},
   "outputs": [],
   "source": [
    "import pandas as pd\n",
    "import autograd.numpy as np\n",
    "from autograd import grad \n",
    "import matplotlib.pyplot as plt\n",
    "from sklearn.cluster import KMeans"
   ]
  },
  {
   "cell_type": "code",
   "execution_count": 14,
   "metadata": {},
   "outputs": [],
   "source": [
    "# Read data\n",
    "DATA_BASE_URL = \"https://raw.githubusercontent.com/sql-injection/spotify_data/master/\"\n",
    "datasets = {\n",
    "    \"train\": DATA_BASE_URL + \"train.csv\",\n",
    "    \"test\": DATA_BASE_URL + \"test.csv\",\n",
    "    \"all\": DATA_BASE_URL + \"spotify.csv\"\n",
    "}\n",
    "\n",
    "total_df = pd.read_csv(datasets[\"all\"])\n",
    "attribute_names = list(total_df)[:-1]\n",
    "x = total_df[attribute_names].values\n",
    "y = total_df[\"Class\"].values\n",
    "\n",
    "original_x = np.copy(x)\n",
    "original_y = np.copy(y)"
   ]
  },
  {
   "cell_type": "code",
   "execution_count": 15,
   "metadata": {},
   "outputs": [],
   "source": [
    "def include_only(x, attribute_names, attribute_subset):\n",
    "    excluded_columns = [i for i, attribute in enumerate(attribute_names) if attribute not in attribute_subset]\n",
    "    return np.delete(x, excluded_columns, axis=1)"
   ]
  },
  {
   "cell_type": "code",
   "execution_count": 16,
   "metadata": {},
   "outputs": [
    {
     "name": "stdout",
     "output_type": "stream",
     "text": [
      "Attributes we are considering: ['danceability', 'energy']\n"
     ]
    }
   ],
   "source": [
    "attribute_subset = [\"danceability\", \"energy\"]\n",
    "print(\"Attributes we are considering:\", attribute_subset)\n",
    "x = include_only(original_x, attribute_names, attribute_subset)"
   ]
  },
  {
   "cell_type": "code",
   "execution_count": 17,
   "metadata": {},
   "outputs": [],
   "source": [
    "feature_a_indices =  np.where(y == \"classical\")[0]\n",
    "feature_b_indices = np.where(y == \"rock\")[0]\n",
    "feature_a_color = \"cornflowerblue\";\n",
    "feature_b_color = \"salmon\";\n",
    "\n",
    "attribute_names = np.array(attribute_names)\n",
    "energy_attribute_index = np.where(attribute_names == \"energy\")[0][0]\n",
    "danceability_attribute_index = np.where(attribute_names == \"danceability\")[0][0]"
   ]
  },
  {
   "cell_type": "code",
   "execution_count": 18,
   "metadata": {},
   "outputs": [],
   "source": [
    "feature_indices = [*feature_a_indices, *feature_b_indices]\n",
    "\n",
    "f1 = total_df[\"energy\"].values[feature_indices]\n",
    "f2 = total_df[\"danceability\"].values[feature_indices]\n",
    "\n",
    "X = np.array(list(zip(f1, f2))).reshape(len(f1), 2)"
   ]
  },
  {
   "cell_type": "code",
   "execution_count": 19,
   "metadata": {},
   "outputs": [],
   "source": [
    "kmeans = KMeans(n_clusters=2, random_state=0).fit(X)"
   ]
  },
  {
   "cell_type": "code",
   "execution_count": 20,
   "metadata": {},
   "outputs": [
    {
     "data": {
      "image/png": "[encoded data removed]",
      "text/plain": [
       "<Figure size 432x288 with 1 Axes>"
      ]
     },
     "metadata": {},
     "output_type": "display_data"
    },
    {
     "name": "stdout",
     "output_type": "stream",
     "text": [
      "Genre labels were retroactively added after the KMeans learner was fit\n"
     ]
    }
   ],
   "source": [
    "step_size = .01\n",
    "x_min, x_max = X[:, 0].min() - 1, X[:, 0].max() + 1\n",
    "y_min, y_max = X[:, 1].min() - 1, X[:, 1].max() + 1\n",
    "xx, yy = np.meshgrid(np.arange(x_min, x_max, step_size), np.arange(y_min, y_max, step_size))\n",
    "\n",
    "Z = kmeans.predict(np.c_[xx.ravel(), yy.ravel()])\n",
    "\n",
    "Z = Z.reshape(xx.shape)\n",
    "plt.figure(1)\n",
    "plt.clf()\n",
    "plt.imshow(Z,\n",
    "           interpolation=\"nearest\",\n",
    "           extent=(xx.min(), xx.max(), yy.min(), yy.max()),\n",
    "           cmap=plt.cm.get_cmap(\"coolwarm\"),\n",
    "           aspect=\"auto\", origin=\"lower\")\n",
    "\n",
    "plt.scatter(original_x[feature_a_indices, energy_attribute_index],\n",
    "            original_x[feature_a_indices, danceability_attribute_index],\n",
    "            color=feature_a_color, edgecolor=\"k\", label=\"Classical\")\n",
    "\n",
    "plt.scatter(original_x[feature_b_indices, energy_attribute_index],\n",
    "            original_x[feature_b_indices, danceability_attribute_index],\n",
    "            color=feature_b_color, edgecolor=\"k\", label=\"Rock\")\n",
    "\n",
    "centroids = kmeans.cluster_centers_\n",
    "plt.scatter(centroids[:, 0], centroids[:, 1],\n",
    "            marker='x', s=150, linewidths=10,\n",
    "            color='w')\n",
    "\n",
    "plt.title(\"K-means clustering of Classical and Rock genres based on danceability and energy\")\n",
    "plt.xlabel(\"Energy\")\n",
    "plt.ylabel(\"Danceability\")\n",
    "plt.legend()\n",
    "plt.xlim(x_min, x_max)\n",
    "plt.ylim(y_min, y_max)\n",
    "plt.xticks(())\n",
    "plt.yticks(())\n",
    "plt.show()\n",
    "print(\"Genre labels were retroactively added after the KMeans learner was fit\")"
   ]
  },
  {
   "cell_type": "code",
   "execution_count": 9,
   "metadata": {},
   "outputs": [],
   "source": [
    "predictions = kmeans.predict(X)"
   ]
  },
  {
   "cell_type": "code",
   "execution_count": 21,
   "metadata": {},
   "outputs": [
    {
     "name": "stdout",
     "output_type": "stream",
     "text": [
      "Misclassification energy attribute value: 0.532\n",
      "Mean energy attribute for classification:  0.33165999999999995\n"
     ]
    }
   ],
   "source": [
    "# Find attribute values of misclassification\n",
    "Y = [*y[feature_a_indices], *y[feature_b_indices]]\n",
    "for i, p in enumerate(predictions):\n",
    "    y_p = Y[i]\n",
    "    if (y_p == \"classical\" and p == 1) or (y_p == \"rock\" and p == 0):\n",
    "        print(\"Misclassification energy attribute value:\", X[i][0])\n",
    "    \n",
    "print(\"Mean energy attribute for classification: \", np.mean(x[feature_a_indices, 0]))"
   ]
  },
  {
   "cell_type": "markdown",
   "metadata": {},
   "source": [
    "As we can see from the k-means clustering figure, we misclassify one data point as genre \"Rock\" when it's actual genre is \"Classical.\" This misclassification likely occurred its energy attribute is atypically high for classical music at 0.532, where the mean energy attribute for classification is ~0.33."
   ]
  },
  {
   "cell_type": "code",
   "execution_count": null,
   "metadata": {},
   "outputs": [],
   "source": []
  }
 ],
 "metadata": {
  "kernelspec": {
   "display_name": "Python 3",
   "language": "python",
   "name": "python3"
  },
  "language_info": {
   "codemirror_mode": {
    "name": "ipython",
    "version": 3
   },
   "file_extension": ".py",
   "mimetype": "text/x-python",
   "name": "python",
   "nbconvert_exporter": "python",
   "pygments_lexer": "ipython3",
   "version": "3.6.5"
  }
 },
 "nbformat": 4,
 "nbformat_minor": 2
}
