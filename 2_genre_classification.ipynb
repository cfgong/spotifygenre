{
 "cells": [
  {
   "cell_type": "code",
   "execution_count": 1,
   "metadata": {},
   "outputs": [],
   "source": [
    "import pandas as pd\n",
    "import autograd.numpy as np\n",
    "from autograd import grad \n",
    "import matplotlib.pyplot as plt\n",
    "import matplotlib.gridspec as gridspec\n",
    "from common import gradient_descent, plot_cost_histories"
   ]
  },
  {
   "cell_type": "code",
   "execution_count": 2,
   "metadata": {},
   "outputs": [],
   "source": [
    "# Read data\n",
    "DATA_BASE_URL = \"https://raw.githubusercontent.com/sql-injection/spotify_data/master/\"\n",
    "datasets = {\n",
    "    \"train\": DATA_BASE_URL + \"train.csv\",\n",
    "    \"test\": DATA_BASE_URL + \"test.csv\",\n",
    "    \"all\": DATA_BASE_URL + \"spotify.csv\"\n",
    "}\n",
    "\n",
    "total_df = pd.read_csv(datasets[\"all\"])\n",
    "train_df = pd.read_csv(datasets[\"train\"])\n",
    "test_df = pd.read_csv(datasets[\"test\"])\n",
    "attribute_names = list(train_df)[:-1]\n",
    "\n",
    "# Split test and training into x and y values\n",
    "x_train = train_df[attribute_names]\n",
    "y_train = train_df[\"Class\"]\n",
    "x_test = test_df[attribute_names]\n",
    "y_test = test_df[\"Class\"]\n",
    "\n",
    "x = x_train\n",
    "y = y_train\n",
    "x = x.values\n",
    "y = y.values\n",
    "\n",
    "original_x = np.copy(x)\n",
    "original_y = np.copy(y)"
   ]
  },
  {
   "cell_type": "code",
   "execution_count": 3,
   "metadata": {},
   "outputs": [],
   "source": [
    "genre_histograms = {\n",
    "    \"edm\":       np.asarray([1, 0, 0, 0, 0, 0, 0]),\n",
    "    \"hiphop\":    np.asarray([0, 1, 0, 0, 0, 0, 0]),\n",
    "    \"classical\": np.asarray([0, 0, 1, 0, 0, 0, 0]),\n",
    "    \"jazz\":      np.asarray([0, 0, 0, 1, 0, 0, 0]),\n",
    "    \"pop\":       np.asarray([0, 0, 0, 0, 1, 0, 0]),\n",
    "    \"country\":   np.asarray([0, 0, 0, 0, 0, 1, 0]),\n",
    "    \"rock\":      np.asarray([0, 0, 0, 0, 0, 0, 1])\n",
    "}"
   ]
  },
  {
   "cell_type": "code",
   "execution_count": 4,
   "metadata": {},
   "outputs": [],
   "source": [
    "# Genre encoded into one-hot vectors\n",
    "y_encoded = np.array([genre_histograms[genre] for genre in y])"
   ]
  },
  {
   "cell_type": "code",
   "execution_count": 5,
   "metadata": {},
   "outputs": [
    {
     "data": {
      "image/png": "[encoded data removed]",
      "text/plain": [
       "<Figure size 432x288 with 1 Axes>"
      ]
     },
     "metadata": {
      "needs_background": "light"
     },
     "output_type": "display_data"
    }
   ],
   "source": [
    "feature_a_indices =  np.where(y == \"classical\")[0]\n",
    "feature_b_indices = np.where(y == \"rock\")[0]\n",
    "feature_a_color = \"cornflowerblue\";\n",
    "feature_b_color = \"salmon\";\n",
    "\n",
    "attribute_names = np.array(attribute_names)\n",
    "energy_attribute_index = np.where(attribute_names == \"energy\")[0][0]\n",
    "danceability_attribute_index = np.where(attribute_names == \"danceability\")[0][0]\n",
    "\n",
    "f = plt.figure()\n",
    "ax = plt.subplot()\n",
    "ax.set_xlabel(\"Energy\")\n",
    "ax.set_ylabel(\"Danceability\")\n",
    "ax.set_title(\"Classical Music (Blue) vs. Rock (Red) in terms of Energy and Danceability\")\n",
    "for i in feature_a_indices:\n",
    "    ax.scatter(original_x[i, energy_attribute_index],\n",
    "               original_x[i, danceability_attribute_index],\n",
    "               color=feature_a_color, edgecolor='k')\n",
    "    \n",
    "for i in feature_b_indices:\n",
    "    ax.scatter(original_x[i, energy_attribute_index],\n",
    "               original_x[i, danceability_attribute_index],\n",
    "               color=feature_b_color, edgecolor='k')\n"
   ]
  },
  {
   "cell_type": "code",
   "execution_count": 17,
   "metadata": {},
   "outputs": [],
   "source": [
    "X = original_x[:, :2]\n",
    "included_indices = np.concatenate((feature_a_indices, feature_b_indices))\n",
    "X = np.take(X, included_indices, axis=0)\n",
    "Y = np.take(original_y, included_indices, axis=0)\n",
    "Y[Y == \"classical\"] = 0\n",
    "Y[Y == \"rock\"] = 1"
   ]
  },
  {
   "cell_type": "code",
   "execution_count": 64,
   "metadata": {},
   "outputs": [
    {
     "name": "stdout",
     "output_type": "stream",
     "text": [
      "(70, 2)\n",
      "(70, 1)\n"
     ]
    }
   ],
   "source": [
    "x = X\n",
    "y = Y[:, np.newaxis]\n",
    "print(x.shape)\n",
    "print(y.shape)"
   ]
  },
  {
   "cell_type": "code",
   "execution_count": 89,
   "metadata": {},
   "outputs": [
    {
     "name": "stdout",
     "output_type": "stream",
     "text": [
      "(70, 2) (2, 70)\n"
     ]
    },
    {
     "ename": "ValueError",
     "evalue": "shapes (2,70) and (1,70) not aligned: 70 (dim 1) != 1 (dim 0)",
     "output_type": "error",
     "traceback": [
      "\u001b[0;31m---------------------------------------------------------------------------\u001b[0m",
      "\u001b[0;31mValueError\u001b[0m                                Traceback (most recent call last)",
      "\u001b[0;32m<ipython-input-89-01c9a772f914>\u001b[0m in \u001b[0;36m<module>\u001b[0;34m\u001b[0m\n\u001b[1;32m     24\u001b[0m \u001b[0;31m#     return cost/y.size\u001b[0m\u001b[0;34m\u001b[0m\u001b[0;34m\u001b[0m\u001b[0m\n\u001b[1;32m     25\u001b[0m \u001b[0;34m\u001b[0m\u001b[0m\n\u001b[0;32m---> 26\u001b[0;31m \u001b[0msigmoid_least_squares\u001b[0m\u001b[0;34m(\u001b[0m\u001b[0mw\u001b[0m\u001b[0;34m)\u001b[0m\u001b[0;34m\u001b[0m\u001b[0m\n\u001b[0m",
      "\u001b[0;32m<ipython-input-89-01c9a772f914>\u001b[0m in \u001b[0;36msigmoid_least_squares\u001b[0;34m(w)\u001b[0m\n\u001b[1;32m     10\u001b[0m \u001b[0;32mdef\u001b[0m \u001b[0msigmoid_least_squares\u001b[0m\u001b[0;34m(\u001b[0m\u001b[0mw\u001b[0m\u001b[0;34m)\u001b[0m\u001b[0;34m:\u001b[0m\u001b[0;34m\u001b[0m\u001b[0m\n\u001b[1;32m     11\u001b[0m     \u001b[0mprint\u001b[0m\u001b[0;34m(\u001b[0m\u001b[0mx\u001b[0m\u001b[0;34m.\u001b[0m\u001b[0mshape\u001b[0m\u001b[0;34m,\u001b[0m \u001b[0mw\u001b[0m\u001b[0;34m.\u001b[0m\u001b[0mshape\u001b[0m\u001b[0;34m)\u001b[0m\u001b[0;34m\u001b[0m\u001b[0m\n\u001b[0;32m---> 12\u001b[0;31m     \u001b[0mall_evals\u001b[0m \u001b[0;34m=\u001b[0m \u001b[0mmodel\u001b[0m\u001b[0;34m(\u001b[0m\u001b[0mx\u001b[0m\u001b[0;34m,\u001b[0m \u001b[0mw\u001b[0m\u001b[0;34m)\u001b[0m\u001b[0;34m\u001b[0m\u001b[0m\n\u001b[0m\u001b[1;32m     13\u001b[0m     \u001b[0mprint\u001b[0m\u001b[0;34m(\u001b[0m\u001b[0mall_evals\u001b[0m\u001b[0;34m)\u001b[0m\u001b[0;34m\u001b[0m\u001b[0m\n\u001b[1;32m     14\u001b[0m \u001b[0;31m#     cost = 0\u001b[0m\u001b[0;34m\u001b[0m\u001b[0;34m\u001b[0m\u001b[0m\n",
      "\u001b[0;32m<ipython-input-89-01c9a772f914>\u001b[0m in \u001b[0;36mmodel\u001b[0;34m(x, w)\u001b[0m\n\u001b[1;32m      4\u001b[0m \u001b[0;34m\u001b[0m\u001b[0m\n\u001b[1;32m      5\u001b[0m \u001b[0;32mdef\u001b[0m \u001b[0mmodel\u001b[0m\u001b[0;34m(\u001b[0m\u001b[0mx\u001b[0m\u001b[0;34m,\u001b[0m \u001b[0mw\u001b[0m\u001b[0;34m)\u001b[0m\u001b[0;34m:\u001b[0m\u001b[0;34m\u001b[0m\u001b[0m\n\u001b[0;32m----> 6\u001b[0;31m     \u001b[0ma\u001b[0m \u001b[0;34m=\u001b[0m \u001b[0mw\u001b[0m\u001b[0;34m[\u001b[0m\u001b[0;36m0\u001b[0m\u001b[0;34m]\u001b[0m \u001b[0;34m+\u001b[0m \u001b[0mnp\u001b[0m\u001b[0;34m.\u001b[0m\u001b[0mdot\u001b[0m\u001b[0;34m(\u001b[0m\u001b[0mx\u001b[0m\u001b[0;34m.\u001b[0m\u001b[0mT\u001b[0m\u001b[0;34m,\u001b[0m \u001b[0mw\u001b[0m\u001b[0;34m[\u001b[0m\u001b[0;36m1\u001b[0m\u001b[0;34m:\u001b[0m\u001b[0;34m]\u001b[0m\u001b[0;34m)\u001b[0m\u001b[0;34m\u001b[0m\u001b[0m\n\u001b[0m\u001b[1;32m      7\u001b[0m     \u001b[0;32mreturn\u001b[0m \u001b[0ma\u001b[0m\u001b[0;34m.\u001b[0m\u001b[0mT\u001b[0m\u001b[0;34m\u001b[0m\u001b[0m\n\u001b[1;32m      8\u001b[0m \u001b[0;34m\u001b[0m\u001b[0m\n",
      "\u001b[0;32m/Library/Frameworks/Python.framework/Versions/3.6/lib/python3.6/site-packages/autograd/tracer.py\u001b[0m in \u001b[0;36mf_wrapped\u001b[0;34m(*args, **kwargs)\u001b[0m\n\u001b[1;32m     46\u001b[0m             \u001b[0;32mreturn\u001b[0m \u001b[0mnew_box\u001b[0m\u001b[0;34m(\u001b[0m\u001b[0mans\u001b[0m\u001b[0;34m,\u001b[0m \u001b[0mtrace\u001b[0m\u001b[0;34m,\u001b[0m \u001b[0mnode\u001b[0m\u001b[0;34m)\u001b[0m\u001b[0;34m\u001b[0m\u001b[0m\n\u001b[1;32m     47\u001b[0m         \u001b[0;32melse\u001b[0m\u001b[0;34m:\u001b[0m\u001b[0;34m\u001b[0m\u001b[0m\n\u001b[0;32m---> 48\u001b[0;31m             \u001b[0;32mreturn\u001b[0m \u001b[0mf_raw\u001b[0m\u001b[0;34m(\u001b[0m\u001b[0;34m*\u001b[0m\u001b[0margs\u001b[0m\u001b[0;34m,\u001b[0m \u001b[0;34m**\u001b[0m\u001b[0mkwargs\u001b[0m\u001b[0;34m)\u001b[0m\u001b[0;34m\u001b[0m\u001b[0m\n\u001b[0m\u001b[1;32m     49\u001b[0m     \u001b[0mf_wrapped\u001b[0m\u001b[0;34m.\u001b[0m\u001b[0mfun\u001b[0m \u001b[0;34m=\u001b[0m \u001b[0mf_raw\u001b[0m\u001b[0;34m\u001b[0m\u001b[0m\n\u001b[1;32m     50\u001b[0m     \u001b[0mf_wrapped\u001b[0m\u001b[0;34m.\u001b[0m\u001b[0m_is_autograd_primitive\u001b[0m \u001b[0;34m=\u001b[0m \u001b[0;32mTrue\u001b[0m\u001b[0;34m\u001b[0m\u001b[0m\n",
      "\u001b[0;31mValueError\u001b[0m: shapes (2,70) and (1,70) not aligned: 70 (dim 1) != 1 (dim 0)"
     ]
    }
   ],
   "source": [
    "# # define sigmoid function\n",
    "# def sigmoid(t):\n",
    "#     return 1/(1 + np.exp(-t))\n",
    "\n",
    "def model(x, w):\n",
    "    a = w[0] + np.dot(x.T, w[1:])\n",
    "    return a.T\n",
    "\n",
    "# # sigmoid non-convex logistic least squares cost function\n",
    "def sigmoid_least_squares(w):\n",
    "    print(x.shape, w.shape)\n",
    "    all_evals = model(x, w)\n",
    "    print(all_evals)\n",
    "#     cost = 0\n",
    "#     for p in range(y.size):\n",
    "#         x_p = x[p][:, np.newaxis]\n",
    "#         y_p = y[p]\n",
    "        \n",
    "#         # a_p = sigmoid(model(x_p, w))\n",
    "#         # print(a_p, y_p)\n",
    "\n",
    "#         cost += (a_p - y_p)**2\n",
    "        \n",
    "#     return cost/y.size\n",
    "\n",
    "sigmoid_least_squares(w)\n"
   ]
  },
  {
   "cell_type": "code",
   "execution_count": 91,
   "metadata": {},
   "outputs": [],
   "source": [
    "w = np.random.randn(3, 2)\n",
    "learning_rate = 0.1\n",
    "g = sigmoid_least_squares\n",
    "max_its = 100"
   ]
  },
  {
   "cell_type": "code",
   "execution_count": 67,
   "metadata": {},
   "outputs": [
    {
     "name": "stdout",
     "output_type": "stream",
     "text": [
      "(2, 1) (3, 2)\n",
      "(2, 1) (3, 2)\n",
      "(2, 1) (3, 2)\n",
      "(2, 1) (3, 2)\n",
      "(2, 1) (3, 2)\n",
      "(2, 1) (3, 2)\n",
      "(2, 1) (3, 2)\n",
      "(2, 1) (3, 2)\n",
      "(2, 1) (3, 2)\n",
      "(2, 1) (3, 2)\n",
      "(2, 1) (3, 2)\n",
      "(2, 1) (3, 2)\n",
      "(2, 1) (3, 2)\n",
      "(2, 1) (3, 2)\n",
      "(2, 1) (3, 2)\n",
      "(2, 1) (3, 2)\n",
      "(2, 1) (3, 2)\n",
      "(2, 1) (3, 2)\n",
      "(2, 1) (3, 2)\n",
      "(2, 1) (3, 2)\n",
      "(2, 1) (3, 2)\n",
      "(2, 1) (3, 2)\n",
      "(2, 1) (3, 2)\n",
      "(2, 1) (3, 2)\n",
      "(2, 1) (3, 2)\n",
      "(2, 1) (3, 2)\n",
      "(2, 1) (3, 2)\n",
      "(2, 1) (3, 2)\n",
      "(2, 1) (3, 2)\n",
      "(2, 1) (3, 2)\n",
      "(2, 1) (3, 2)\n",
      "(2, 1) (3, 2)\n",
      "(2, 1) (3, 2)\n",
      "(2, 1) (3, 2)\n",
      "(2, 1) (3, 2)\n",
      "(2, 1) (3, 2)\n",
      "(2, 1) (3, 2)\n",
      "(2, 1) (3, 2)\n",
      "(2, 1) (3, 2)\n",
      "(2, 1) (3, 2)\n",
      "(2, 1) (3, 2)\n",
      "(2, 1) (3, 2)\n",
      "(2, 1) (3, 2)\n",
      "(2, 1) (3, 2)\n",
      "(2, 1) (3, 2)\n",
      "(2, 1) (3, 2)\n",
      "(2, 1) (3, 2)\n",
      "(2, 1) (3, 2)\n",
      "(2, 1) (3, 2)\n",
      "(2, 1) (3, 2)\n",
      "(2, 1) (3, 2)\n",
      "(2, 1) (3, 2)\n",
      "(2, 1) (3, 2)\n",
      "(2, 1) (3, 2)\n",
      "(2, 1) (3, 2)\n",
      "(2, 1) (3, 2)\n",
      "(2, 1) (3, 2)\n",
      "(2, 1) (3, 2)\n",
      "(2, 1) (3, 2)\n",
      "(2, 1) (3, 2)\n",
      "(2, 1) (3, 2)\n",
      "(2, 1) (3, 2)\n",
      "(2, 1) (3, 2)\n",
      "(2, 1) (3, 2)\n",
      "(2, 1) (3, 2)\n",
      "(2, 1) (3, 2)\n",
      "(2, 1) (3, 2)\n",
      "(2, 1) (3, 2)\n",
      "(2, 1) (3, 2)\n",
      "(2, 1) (3, 2)\n",
      "(2, 1) (3, 2)\n",
      "(2, 1) (3, 2)\n",
      "(2, 1) (3, 2)\n",
      "(2, 1) (3, 2)\n",
      "(2, 1) (3, 2)\n",
      "(2, 1) (3, 2)\n",
      "(2, 1) (3, 2)\n",
      "(2, 1) (3, 2)\n",
      "(2, 1) (3, 2)\n",
      "(2, 1) (3, 2)\n",
      "(2, 1) (3, 2)\n",
      "(2, 1) (3, 2)\n",
      "(2, 1) (3, 2)\n",
      "(2, 1) (3, 2)\n",
      "(2, 1) (3, 2)\n",
      "(2, 1) (3, 2)\n",
      "(2, 1) (3, 2)\n",
      "(2, 1) (3, 2)\n",
      "(2, 1) (3, 2)\n",
      "(2, 1) (3, 2)\n",
      "(2, 1) (3, 2)\n",
      "(2, 1) (3, 2)\n",
      "(2, 1) (3, 2)\n",
      "(2, 1) (3, 2)\n",
      "(2, 1) (3, 2)\n",
      "(2, 1) (3, 2)\n",
      "(2, 1) (3, 2)\n",
      "(2, 1) (3, 2)\n",
      "(2, 1) (3, 2)\n",
      "(2, 1) (3, 2)\n",
      "(2, 1) (3, 2)\n",
      "(2, 1) (3, 2)\n",
      "(2, 1) (3, 2)\n",
      "(2, 1) (3, 2)\n",
      "(2, 1) (3, 2)\n",
      "(2, 1) (3, 2)\n",
      "(2, 1) (3, 2)\n",
      "(2, 1) (3, 2)\n",
      "(2, 1) (3, 2)\n",
      "(2, 1) (3, 2)\n",
      "(2, 1) (3, 2)\n",
      "(2, 1) (3, 2)\n",
      "(2, 1) (3, 2)\n",
      "(2, 1) (3, 2)\n",
      "(2, 1) (3, 2)\n",
      "(2, 1) (3, 2)\n",
      "(2, 1) (3, 2)\n",
      "(2, 1) (3, 2)\n",
      "(2, 1) (3, 2)\n",
      "(2, 1) (3, 2)\n",
      "(2, 1) (3, 2)\n",
      "(2, 1) (3, 2)\n",
      "(2, 1) (3, 2)\n",
      "(2, 1) (3, 2)\n",
      "(2, 1) (3, 2)\n",
      "(2, 1) (3, 2)\n",
      "(2, 1) (3, 2)\n",
      "(2, 1) (3, 2)\n",
      "(2, 1) (3, 2)\n",
      "(2, 1) (3, 2)\n",
      "(2, 1) (3, 2)\n",
      "(2, 1) (3, 2)\n",
      "(2, 1) (3, 2)\n",
      "(2, 1) (3, 2)\n",
      "(2, 1) (3, 2)\n",
      "(2, 1) (3, 2)\n",
      "(2, 1) (3, 2)\n",
      "(2, 1) (3, 2)\n",
      "(2, 1) (3, 2)\n",
      "(2, 1) (3, 2)\n"
     ]
    },
    {
     "ename": "TypeError",
     "evalue": "Grad only applies to real scalar-output functions. Try jacobian or elementwise_grad.",
     "output_type": "error",
     "traceback": [
      "\u001b[0;31m---------------------------------------------------------------------------\u001b[0m",
      "\u001b[0;31mTypeError\u001b[0m                                 Traceback (most recent call last)",
      "\u001b[0;32m<ipython-input-67-d8309e01421f>\u001b[0m in \u001b[0;36m<module>\u001b[0;34m\u001b[0m\n\u001b[0;32m----> 1\u001b[0;31m \u001b[0mweight_history\u001b[0m\u001b[0;34m,\u001b[0m \u001b[0mcost_history\u001b[0m \u001b[0;34m=\u001b[0m \u001b[0mgradient_descent\u001b[0m\u001b[0;34m(\u001b[0m\u001b[0mg\u001b[0m\u001b[0;34m,\u001b[0m \u001b[0mlearning_rate\u001b[0m\u001b[0;34m,\u001b[0m \u001b[0mmax_its\u001b[0m\u001b[0;34m,\u001b[0m \u001b[0mw\u001b[0m\u001b[0;34m)\u001b[0m\u001b[0;34m\u001b[0m\u001b[0m\n\u001b[0m",
      "\u001b[0;32m~/Documents/spotifygenre/common.py\u001b[0m in \u001b[0;36mgradient_descent\u001b[0;34m(g, alpha, max_its, w)\u001b[0m\n\u001b[1;32m     11\u001b[0m     \u001b[0;32mfor\u001b[0m \u001b[0mk\u001b[0m \u001b[0;32min\u001b[0m \u001b[0mrange\u001b[0m\u001b[0;34m(\u001b[0m\u001b[0mmax_its\u001b[0m\u001b[0;34m)\u001b[0m\u001b[0;34m:\u001b[0m\u001b[0;34m\u001b[0m\u001b[0m\n\u001b[1;32m     12\u001b[0m         \u001b[0;31m# evaluate the gradient, store current weights and cost function value\u001b[0m\u001b[0;34m\u001b[0m\u001b[0;34m\u001b[0m\u001b[0m\n\u001b[0;32m---> 13\u001b[0;31m         \u001b[0mgrad_eval\u001b[0m \u001b[0;34m=\u001b[0m \u001b[0mgradient\u001b[0m\u001b[0;34m(\u001b[0m\u001b[0mw\u001b[0m\u001b[0;34m)\u001b[0m\u001b[0;34m\u001b[0m\u001b[0m\n\u001b[0m\u001b[1;32m     14\u001b[0m         \u001b[0;31m# take gradient descent step\u001b[0m\u001b[0;34m\u001b[0m\u001b[0;34m\u001b[0m\u001b[0m\n\u001b[1;32m     15\u001b[0m         \u001b[0mw\u001b[0m \u001b[0;34m=\u001b[0m \u001b[0mw\u001b[0m \u001b[0;34m-\u001b[0m \u001b[0malpha\u001b[0m\u001b[0;34m*\u001b[0m\u001b[0mgrad_eval\u001b[0m\u001b[0;34m\u001b[0m\u001b[0m\n",
      "\u001b[0;32m/Library/Frameworks/Python.framework/Versions/3.6/lib/python3.6/site-packages/autograd/wrap_util.py\u001b[0m in \u001b[0;36mnary_f\u001b[0;34m(*args, **kwargs)\u001b[0m\n\u001b[1;32m     18\u001b[0m             \u001b[0;32melse\u001b[0m\u001b[0;34m:\u001b[0m\u001b[0;34m\u001b[0m\u001b[0m\n\u001b[1;32m     19\u001b[0m                 \u001b[0mx\u001b[0m \u001b[0;34m=\u001b[0m \u001b[0mtuple\u001b[0m\u001b[0;34m(\u001b[0m\u001b[0margs\u001b[0m\u001b[0;34m[\u001b[0m\u001b[0mi\u001b[0m\u001b[0;34m]\u001b[0m \u001b[0;32mfor\u001b[0m \u001b[0mi\u001b[0m \u001b[0;32min\u001b[0m \u001b[0margnum\u001b[0m\u001b[0;34m)\u001b[0m\u001b[0;34m\u001b[0m\u001b[0m\n\u001b[0;32m---> 20\u001b[0;31m             \u001b[0;32mreturn\u001b[0m \u001b[0munary_operator\u001b[0m\u001b[0;34m(\u001b[0m\u001b[0munary_f\u001b[0m\u001b[0;34m,\u001b[0m \u001b[0mx\u001b[0m\u001b[0;34m,\u001b[0m \u001b[0;34m*\u001b[0m\u001b[0mnary_op_args\u001b[0m\u001b[0;34m,\u001b[0m \u001b[0;34m**\u001b[0m\u001b[0mnary_op_kwargs\u001b[0m\u001b[0;34m)\u001b[0m\u001b[0;34m\u001b[0m\u001b[0m\n\u001b[0m\u001b[1;32m     21\u001b[0m         \u001b[0;32mreturn\u001b[0m \u001b[0mnary_f\u001b[0m\u001b[0;34m\u001b[0m\u001b[0m\n\u001b[1;32m     22\u001b[0m     \u001b[0;32mreturn\u001b[0m \u001b[0mnary_operator\u001b[0m\u001b[0;34m\u001b[0m\u001b[0m\n",
      "\u001b[0;32m/Library/Frameworks/Python.framework/Versions/3.6/lib/python3.6/site-packages/autograd/differential_operators.py\u001b[0m in \u001b[0;36mgrad\u001b[0;34m(fun, x)\u001b[0m\n\u001b[1;32m     24\u001b[0m     \u001b[0mvjp\u001b[0m\u001b[0;34m,\u001b[0m \u001b[0mans\u001b[0m \u001b[0;34m=\u001b[0m \u001b[0m_make_vjp\u001b[0m\u001b[0;34m(\u001b[0m\u001b[0mfun\u001b[0m\u001b[0;34m,\u001b[0m \u001b[0mx\u001b[0m\u001b[0;34m)\u001b[0m\u001b[0;34m\u001b[0m\u001b[0m\n\u001b[1;32m     25\u001b[0m     \u001b[0;32mif\u001b[0m \u001b[0;32mnot\u001b[0m \u001b[0mvspace\u001b[0m\u001b[0;34m(\u001b[0m\u001b[0mans\u001b[0m\u001b[0;34m)\u001b[0m\u001b[0;34m.\u001b[0m\u001b[0msize\u001b[0m \u001b[0;34m==\u001b[0m \u001b[0;36m1\u001b[0m\u001b[0;34m:\u001b[0m\u001b[0;34m\u001b[0m\u001b[0m\n\u001b[0;32m---> 26\u001b[0;31m         raise TypeError(\"Grad only applies to real scalar-output functions. \"\n\u001b[0m\u001b[1;32m     27\u001b[0m                         \"Try jacobian or elementwise_grad.\")\n\u001b[1;32m     28\u001b[0m     \u001b[0;32mreturn\u001b[0m \u001b[0mvjp\u001b[0m\u001b[0;34m(\u001b[0m\u001b[0mvspace\u001b[0m\u001b[0;34m(\u001b[0m\u001b[0mans\u001b[0m\u001b[0;34m)\u001b[0m\u001b[0;34m.\u001b[0m\u001b[0mones\u001b[0m\u001b[0;34m(\u001b[0m\u001b[0;34m)\u001b[0m\u001b[0;34m)\u001b[0m\u001b[0;34m\u001b[0m\u001b[0m\n",
      "\u001b[0;31mTypeError\u001b[0m: Grad only applies to real scalar-output functions. Try jacobian or elementwise_grad."
     ]
    }
   ],
   "source": [
    "weight_history, cost_history = gradient_descent(g, learning_rate, max_its, w)"
   ]
  },
  {
   "cell_type": "code",
   "execution_count": null,
   "metadata": {},
   "outputs": [],
   "source": []
  },
  {
   "cell_type": "code",
   "execution_count": null,
   "metadata": {},
   "outputs": [],
   "source": []
  }
 ],
 "metadata": {
  "kernelspec": {
   "display_name": "Python 3",
   "language": "python",
   "name": "python3"
  },
  "language_info": {
   "codemirror_mode": {
    "name": "ipython",
    "version": 3
   },
   "file_extension": ".py",
   "mimetype": "text/x-python",
   "name": "python",
   "nbconvert_exporter": "python",
   "pygments_lexer": "ipython3",
   "version": "3.6.4"
  }
 },
 "nbformat": 4,
 "nbformat_minor": 2
}
