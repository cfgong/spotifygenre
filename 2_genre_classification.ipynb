{
 "cells": [
  {
   "cell_type": "code",
   "execution_count": 1,
   "metadata": {},
   "outputs": [],
   "source": [
    "import pandas as pd\n",
    "import autograd.numpy as np\n",
    "from autograd import grad \n",
    "import matplotlib.pyplot as plt\n",
    "import matplotlib.gridspec as gridspec\n",
    "from common import gradient_descent, plot_cost_histories"
   ]
  },
  {
   "cell_type": "code",
   "execution_count": 2,
   "metadata": {},
   "outputs": [],
   "source": [
    "# Read data\n",
    "DATA_BASE_URL = \"https://raw.githubusercontent.com/sql-injection/spotify_data/master/\"\n",
    "datasets = {\n",
    "    \"train\": DATA_BASE_URL + \"train.csv\",\n",
    "    \"test\": DATA_BASE_URL + \"test.csv\",\n",
    "    \"all\": DATA_BASE_URL + \"spotify.csv\"\n",
    "}\n",
    "\n",
    "total_df = pd.read_csv(datasets[\"all\"])\n",
    "train_df = pd.read_csv(datasets[\"train\"])\n",
    "test_df = pd.read_csv(datasets[\"test\"])\n",
    "attribute_names = list(train_df)[:-1]\n",
    "\n",
    "# Split test and training into x and y values\n",
    "x_train = train_df[attribute_names]\n",
    "y_train = train_df[\"Class\"]\n",
    "x_test = test_df[attribute_names]\n",
    "y_test = test_df[\"Class\"]\n",
    "\n",
    "x = x_train\n",
    "y = y_train\n",
    "x = x.values\n",
    "y = y.values\n",
    "\n",
    "original_x = np.copy(x)\n",
    "original_y = np.copy(y)"
   ]
  },
  {
   "cell_type": "code",
   "execution_count": 3,
   "metadata": {},
   "outputs": [],
   "source": [
    "genre_histograms = {\n",
    "    \"edm\":       np.asarray([1, 0, 0, 0, 0, 0, 0]),\n",
    "    \"hiphop\":    np.asarray([0, 1, 0, 0, 0, 0, 0]),\n",
    "    \"classical\": np.asarray([0, 0, 1, 0, 0, 0, 0]),\n",
    "    \"jazz\":      np.asarray([0, 0, 0, 1, 0, 0, 0]),\n",
    "    \"pop\":       np.asarray([0, 0, 0, 0, 1, 0, 0]),\n",
    "    \"country\":   np.asarray([0, 0, 0, 0, 0, 1, 0]),\n",
    "    \"rock\":      np.asarray([0, 0, 0, 0, 0, 0, 1])\n",
    "}"
   ]
  },
  {
   "cell_type": "code",
   "execution_count": 4,
   "metadata": {},
   "outputs": [],
   "source": [
    "# Genre encoded into one-hot vectors\n",
    "y_encoded = np.array([genre_histograms[genre] for genre in y])"
   ]
  },
  {
   "cell_type": "code",
   "execution_count": 5,
   "metadata": {},
   "outputs": [
    {
     "data": {
      "image/png": "[encoded data removed]",
      "text/plain": [
       "<Figure size 432x288 with 1 Axes>"
      ]
     },
     "metadata": {
      "needs_background": "light"
     },
     "output_type": "display_data"
    }
   ],
   "source": [
    "feature_a_indices =  np.where(y == \"classical\")[0]\n",
    "feature_b_indices = np.where(y == \"rock\")[0]\n",
    "feature_a_color = \"cornflowerblue\";\n",
    "feature_b_color = \"salmon\";\n",
    "\n",
    "attribute_names = np.array(attribute_names)\n",
    "energy_attribute_index = np.where(attribute_names == \"energy\")[0][0]\n",
    "danceability_attribute_index = np.where(attribute_names == \"danceability\")[0][0]\n",
    "\n",
    "f = plt.figure()\n",
    "ax = plt.subplot()\n",
    "ax.set_xlabel(\"Energy\")\n",
    "ax.set_ylabel(\"Danceability\")\n",
    "ax.set_title(\"Classical Music (Blue) vs. Rock (Red) in terms of Energy and Danceability\")\n",
    "for i in feature_a_indices:\n",
    "    ax.scatter(original_x[i, energy_attribute_index],\n",
    "               original_x[i, danceability_attribute_index],\n",
    "               color=feature_a_color, edgecolor='k')\n",
    "    \n",
    "for i in feature_b_indices:\n",
    "    ax.scatter(original_x[i, energy_attribute_index],\n",
    "               original_x[i, danceability_attribute_index],\n",
    "               color=feature_b_color, edgecolor='k')\n"
   ]
  },
  {
   "cell_type": "code",
   "execution_count": 6,
   "metadata": {},
   "outputs": [],
   "source": [
    "X = original_x[:, :2]\n",
    "included_indices = np.concatenate((feature_a_indices, feature_b_indices))\n",
    "X = np.take(X, included_indices, axis=0)\n",
    "Y = np.take(original_y, included_indices, axis=0)\n",
    "Y[Y == \"classical\"] = 0\n",
    "Y[Y == \"rock\"] = 1"
   ]
  },
  {
   "cell_type": "code",
   "execution_count": 7,
   "metadata": {},
   "outputs": [],
   "source": [
    "x = X\n",
    "y = Y[:, np.newaxis]"
   ]
  },
  {
   "cell_type": "code",
   "execution_count": 8,
   "metadata": {},
   "outputs": [],
   "source": [
    "def model(x, w):\n",
    "    a = w[0] + np.dot(x.T, w[1:])\n",
    "    return a.T\n",
    "\n",
    "lam = 10**-5  # our regularization paramter \n",
    "def multiclass_perceptron(w):        \n",
    "    # pre-compute predictions on all points\n",
    "    all_evals = model(x.T, w)\n",
    "    \n",
    "    # compute maximum across data points\n",
    "    a = np.max(all_evals,axis = 0)    \n",
    "\n",
    "    # compute cost in compact form using numpy broadcasting\n",
    "    b = all_evals[y.astype(int).flatten(),np.arange(np.size(y))]\n",
    "    cost = np.sum(a - b)\n",
    "    \n",
    "    # add regularizer\n",
    "    cost = cost + lam*np.linalg.norm(w[1:,:],'fro')**2\n",
    "    \n",
    "    # return average\n",
    "    return cost/float(np.size(y))\n",
    "                              "
   ]
  },
  {
   "cell_type": "code",
   "execution_count": 9,
   "metadata": {},
   "outputs": [],
   "source": [
    "w = np.random.randn(3, 70)\n",
    "learning_rate = 0.1\n",
    "g = multiclass_perceptron\n",
    "max_its = 100"
   ]
  },
  {
   "cell_type": "code",
   "execution_count": 10,
   "metadata": {},
   "outputs": [],
   "source": [
    "weight_history, cost_history = gradient_descent(g, learning_rate, max_its, w)"
   ]
  },
  {
   "cell_type": "code",
   "execution_count": 11,
   "metadata": {},
   "outputs": [
    {
     "data": {
      "image/png": "[encoded data removed]",
      "text/plain": [
       "<Figure size 432x288 with 1 Axes>"
      ]
     },
     "metadata": {
      "needs_background": "light"
     },
     "output_type": "display_data"
    }
   ],
   "source": [
    "plot_cost_histories(cost_histories=[cost_history], labels=[\"Cost history 1\"])"
   ]
  },
  {
   "cell_type": "code",
   "execution_count": 12,
   "metadata": {},
   "outputs": [],
   "source": [
    "best_idx = np.argmin(cost_history)\n",
    "best_weight = weight_history[best_idx]"
   ]
  },
  {
   "cell_type": "code",
   "execution_count": 13,
   "metadata": {},
   "outputs": [],
   "source": [
    "def fusion_rule(x, w):\n",
    "    return np.argmax(model(x, w))"
   ]
  },
  {
   "cell_type": "code",
   "execution_count": 42,
   "metadata": {},
   "outputs": [
    {
     "name": "stdout",
     "output_type": "stream",
     "text": [
      "Out of 70 points, the number of misclassifications is 3\n"
     ]
    }
   ],
   "source": [
    "points_count = len(x[0])\n",
    "\n",
    "miscounts = 0\n",
    "for p in range(points_count):\n",
    "    x_val = np.array([x[0, p], x[1, p]])\n",
    "    if fusion_rule(x_val, best_weight) != y[p]:\n",
    "        miscounts = miscounts + 1\n",
    "\n",
    "print(\"Out of {0} points, the number of misclassifications is {1}\".format(points_count, miscounts))"
   ]
  }
 ],
 "metadata": {
  "kernelspec": {
   "display_name": "Python 3",
   "language": "python",
   "name": "python3"
  },
  "language_info": {
   "codemirror_mode": {
    "name": "ipython",
    "version": 3
   },
   "file_extension": ".py",
   "mimetype": "text/x-python",
   "name": "python",
   "nbconvert_exporter": "python",
   "pygments_lexer": "ipython3",
   "version": "3.7.0"
  }
 },
 "nbformat": 4,
 "nbformat_minor": 2
}
