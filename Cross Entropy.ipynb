{
 "cells": [
  {
   "cell_type": "code",
   "execution_count": 2,
   "metadata": {},
   "outputs": [],
   "source": [
    "# !pip install autograd\n",
    "import pandas as pd\n",
    "import autograd.numpy as np\n",
    "from autograd import grad "
   ]
  },
  {
   "cell_type": "code",
   "execution_count": 3,
   "metadata": {},
   "outputs": [],
   "source": [
    "# Read data\n",
    "DATA_BASE_URL = \"https://raw.githubusercontent.com/sql-injection/spotify_data/master/\"\n",
    "datasets = {\n",
    "    \"train\": DATA_BASE_URL + \"train.csv\",\n",
    "    \"test\": DATA_BASE_URL + \"test.csv\",\n",
    "    \"all\": DATA_BASE_URL + \"spotify.csv\"\n",
    "}\n",
    "\n",
    "total_df = pd.read_csv(datasets[\"all\"])\n",
    "train_df = pd.read_csv(datasets[\"train\"])\n",
    "test_df = pd.read_csv(datasets[\"test\"])\n",
    "attribute_names = list(train_df)[:-1]"
   ]
  },
  {
   "cell_type": "code",
   "execution_count": 4,
   "metadata": {},
   "outputs": [],
   "source": [
    "genre_histograms = {\n",
    "    \"edm\":       np.asarray([1, 0, 0, 0, 0, 0, 0]),\n",
    "    \"hiphop\":    np.asarray([0, 1, 0, 0, 0, 0, 0]),\n",
    "    \"classical\": np.asarray([0, 0, 1, 0, 0, 0, 0]),\n",
    "    \"jazz\":      np.asarray([0, 0, 0, 1, 0, 0, 0]),\n",
    "    \"pop\":       np.asarray([0, 0, 0, 0, 1, 0, 0]),\n",
    "    \"country\":   np.asarray([0, 0, 0, 0, 0, 1, 0]),\n",
    "    \"rock\":      np.asarray([0, 0, 0, 0, 0, 0, 1])\n",
    "}"
   ]
  },
  {
   "cell_type": "code",
   "execution_count": 175,
   "metadata": {},
   "outputs": [],
   "source": [
    "# Split test and training into x and y values\n",
    "x_train = train_df[attribute_names]\n",
    "y_train = train_df[\"Class\"]\n",
    "x_test = test_df[attribute_names]\n",
    "y_test = test_df[\"Class\"]\n",
    "\n",
    "x = x_train\n",
    "y = y_train\n",
    "x = x.values\n",
    "y = y.values"
   ]
  },
  {
   "cell_type": "markdown",
   "metadata": {},
   "source": [
    "[Jerm Watt Github Code Reference](https://github.com/jermwatt/mlrefined/blob/cfda70dacd14a5010a4a71a41b46f3a1ac9f1774/mlrefined_libraries/superlearn_library/cost_viewer_entropy.py)"
   ]
  },
  {
   "cell_type": "code",
   "execution_count": 203,
   "metadata": {
    "scrolled": true
   },
   "outputs": [],
   "source": [
    "# gradient descent function - inputs: g (input function), alpha (steplength parameter), max_its (maximum number of iterations), w (initialization)\n",
    "def gradient_descent(g,alpha,max_its,w):\n",
    "    # compute gradient module using autograd\n",
    "    gradient = grad(g)\n",
    "\n",
    "    # run the gradient descent loop\n",
    "    weight_history = [w]           # container for weight history\n",
    "    cost_history = [g(w)]          # container for corresponding cost function history\n",
    "    for k in range(max_its):\n",
    "        # evaluate the gradient, store current weights and cost function value\n",
    "        grad_eval = gradient(w)\n",
    "        # take gradient descent step\n",
    "        w = w - alpha*grad_eval\n",
    "        \n",
    "        # record weight and cost\n",
    "        weight_history.append(w)\n",
    "        cost_history.append(g(w))\n",
    "    return weight_history,cost_history\n",
    " \n",
    "def sigmoid(t):\n",
    "    return 1 / (1 + np.exp(-t))\n",
    "\n",
    "def model(x, w):\n",
    "    a = w[0] + np.dot(x.T, w[1:])\n",
    "    return a.T\n",
    "\n",
    "# look at chapter 6, page 10\n",
    "y_encoded = np.array([genre_histograms[genre] for genre in y])\n",
    "epsilon = 1e-5\n",
    "def cross_entropy(w):\n",
    "    c = 0.0\n",
    "    for p in range(len(y)):\n",
    "        x_p = x[p]\n",
    "        y_p = y_encoded[p]\n",
    "        a_p = sigmoid(model(x_p, w))\n",
    "        \n",
    "        c -= np.sum(y_p*np.log(a_p) + (1-y_p)*np.log(1 - a_p))\n",
    "    return c/y.size "
   ]
  },
  {
   "cell_type": "code",
   "execution_count": 212,
   "metadata": {},
   "outputs": [],
   "source": [
    "def cross_entropy2(w):\n",
    "    cost = 0.0\n",
    "    for p in range(len(y)):\n",
    "        x_p = x[p]\n",
    "        y_p = y_encoded[p]\n",
    "        a_p = sigmoid(model(x_p, w))\n",
    "        \n",
    "        ind = np.argwhere(y_p == 0)\n",
    "        cost = -np.sum(np.log(1 - a_p[ind] + epsilon))\n",
    "\n",
    "        ind = np.argwhere(y_p == 1)\n",
    "        cost -= np.sum(np.log(a_p[ind] + epsilon))\n",
    "    print(cost)\n",
    "    return cost/y.size\n"
   ]
  },
  {
   "cell_type": "code",
   "execution_count": 195,
   "metadata": {},
   "outputs": [],
   "source": [
    "def entropy(w):\n",
    "    cost = 0.0\n",
    "    for p in range(len(y)):\n",
    "        x_p = x[p]\n",
    "        y_p = y_encoded[p]\n",
    "\n",
    "        output = sigmoid(model(x_p, w))\n",
    "        # print(output)\n",
    "\n",
    "        difference = y_p - output\n",
    "        cost += np.sum(np.abs(difference))\n",
    "\n",
    "    return cost / np.size(y)"
   ]
  },
  {
   "cell_type": "code",
   "execution_count": 13,
   "metadata": {},
   "outputs": [],
   "source": [
    "import matplotlib.pyplot as plt\n",
    "\n",
    "# cost function history plotter\n",
    "def plot_cost_histories(cost_histories,labels):\n",
    "    # create figure\n",
    "    plt.figure()\n",
    "    \n",
    "    # loop over cost histories and plot each one\n",
    "    for j in range(len(cost_histories)):\n",
    "        history = cost_histories[j]\n",
    "        label = labels[j]\n",
    "        plt.plot(history,label = label)\n",
    "    plt.legend(loc='center left', bbox_to_anchor=(1, 0.5))\n",
    "    plt.show()\n"
   ]
  },
  {
   "cell_type": "code",
   "execution_count": 205,
   "metadata": {},
   "outputs": [
    {
     "data": {
      "image/png": "[encoded data removed]",
      "text/plain": [
       "<Figure size 432x288 with 1 Axes>"
      ]
     },
     "metadata": {
      "needs_background": "light"
     },
     "output_type": "display_data"
    }
   ],
   "source": [
    "g = entropy\n",
    "w = 0.00001 * np.random.rand(14, 7)\n",
    "learning_rate = 10**(-11)\n",
    "max_its = 20\n",
    "\n",
    "weight_history1, cost_history1 = gradient_descent(entropy, learning_rate, max_its, w)\n",
    "weight_history2, cost_history2 = gradient_descent(cross_entropy, learning_rate, max_its, w)\n",
    "\n",
    "plot_cost_histories(cost_histories=[cost_history1, cost_history2], \n",
    "                    labels=[\"Using our entropy function\", \"using Jerm Watt style\"])\n"
   ]
  },
  {
   "cell_type": "code",
   "execution_count": 216,
   "metadata": {},
   "outputs": [
    {
     "name": "stdout",
     "output_type": "stream",
     "text": [
      "69.07754278987137\n",
      "Autograd ArrayBox with value 69.07754278987137\n",
      "69.07754278987137\n",
      "Autograd ArrayBox with value 69.07754278987137\n",
      "69.07754278987137\n",
      "Autograd ArrayBox with value 69.07754278987137\n",
      "69.07754278987137\n",
      "Autograd ArrayBox with value 69.07754278987137\n",
      "69.07754278987137\n",
      "Autograd ArrayBox with value 69.07754278987137\n",
      "69.07754278987137\n",
      "Autograd ArrayBox with value 69.07754278987137\n",
      "69.07754278987137\n",
      "Autograd ArrayBox with value 69.07754278987137\n",
      "69.07754278987137\n",
      "Autograd ArrayBox with value 69.07754278987137\n",
      "69.07754278987137\n",
      "Autograd ArrayBox with value 69.07754278987137\n",
      "69.07754278987137\n",
      "Autograd ArrayBox with value 69.07754278987137\n",
      "69.07754278987137\n",
      "Autograd ArrayBox with value 69.07754278987137\n",
      "69.07754278987137\n",
      "Autograd ArrayBox with value 69.07754278987137\n",
      "69.07754278987137\n",
      "Autograd ArrayBox with value 69.07754278987137\n",
      "69.07754278987137\n",
      "Autograd ArrayBox with value 69.07754278987137\n",
      "69.07754278987137\n",
      "Autograd ArrayBox with value 69.07754278987137\n",
      "69.07754278987137\n",
      "Autograd ArrayBox with value 69.07754278987137\n",
      "69.07754278987137\n",
      "Autograd ArrayBox with value 69.07754278987137\n",
      "69.07754278987137\n",
      "Autograd ArrayBox with value 69.07754278987137\n",
      "69.07754278987137\n",
      "Autograd ArrayBox with value 69.07754278987137\n",
      "69.07754278987137\n",
      "Autograd ArrayBox with value 69.07754278987137\n",
      "69.07754278987137\n"
     ]
    },
    {
     "data": {
      "image/png": "[encoded data removed]",
      "text/plain": [
       "<Figure size 432x288 with 1 Axes>"
      ]
     },
     "metadata": {
      "needs_background": "light"
     },
     "output_type": "display_data"
    }
   ],
   "source": [
    "w = 0.001 * np.random.rand(14, 7)\n",
    "learning_rate = 10**(-5)\n",
    "max_its = 20\n",
    "\n",
    "weight_history3, cost_history3 = gradient_descent(cross_entropy2, learning_rate, max_its, w)\n",
    "\n",
    "plot_cost_histories(cost_histories=[cost_history3], \n",
    "                    labels=[\"implementation based off ch 6\"])\n"
   ]
  },
  {
   "cell_type": "code",
   "execution_count": 211,
   "metadata": {},
   "outputs": [
    {
     "data": {
      "text/plain": [
       "[0.27853846286841427,\n",
       " 0.2785384628652806,\n",
       " 0.27853846286205736,\n",
       " 0.27853846285883416,\n",
       " 0.27853846285570044,\n",
       " 0.27853846285247724,\n",
       " 0.278538462849254,\n",
       " 0.27853846284603084,\n",
       " 0.2785384628428971,\n",
       " 0.27853846283967393,\n",
       " 0.27853846283645073,\n",
       " 0.2785384628332275,\n",
       " 0.2785384628300043,\n",
       " 0.278538462826781,\n",
       " 0.27853846282364736,\n",
       " 0.27853846282042416,\n",
       " 0.27853846281720096,\n",
       " 0.27853846281397776,\n",
       " 0.2785384628107545,\n",
       " 0.2785384628075313,\n",
       " 0.2785384628043081]"
      ]
     },
     "execution_count": 211,
     "metadata": {},
     "output_type": "execute_result"
    }
   ],
   "source": [
    "cost_history3"
   ]
  },
  {
   "cell_type": "code",
   "execution_count": null,
   "metadata": {},
   "outputs": [],
   "source": []
  }
 ],
 "metadata": {
  "kernelspec": {
   "display_name": "Python 3",
   "language": "python",
   "name": "python3"
  },
  "language_info": {
   "codemirror_mode": {
    "name": "ipython",
    "version": 3
   },
   "file_extension": ".py",
   "mimetype": "text/x-python",
   "name": "python",
   "nbconvert_exporter": "python",
   "pygments_lexer": "ipython3",
   "version": "3.7.0"
  }
 },
 "nbformat": 4,
 "nbformat_minor": 2
}
