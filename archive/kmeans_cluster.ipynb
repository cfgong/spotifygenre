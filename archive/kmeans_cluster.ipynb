{
 "cells": [
  {
   "cell_type": "code",
   "execution_count": 30,
   "metadata": {},
   "outputs": [],
   "source": [
    "import pandas as pd\n",
    "import autograd.numpy as np\n",
    "from autograd import grad \n",
    "import matplotlib.pyplot as plt\n",
    "import matplotlib.gridspec as gridspec\n",
    "from common import gradient_descent, plot_cost_histories\n",
    "from sklearn.cluster import KMeans"
   ]
  },
  {
   "cell_type": "code",
   "execution_count": 2,
   "metadata": {},
   "outputs": [],
   "source": [
    "# Read data\n",
    "DATA_BASE_URL = \"https://raw.githubusercontent.com/sql-injection/spotify_data/master/\"\n",
    "datasets = {\n",
    "    \"train\": DATA_BASE_URL + \"train.csv\",\n",
    "    \"test\": DATA_BASE_URL + \"test.csv\",\n",
    "    \"all\": DATA_BASE_URL + \"spotify.csv\"\n",
    "}\n",
    "\n",
    "total_df = pd.read_csv(datasets[\"all\"])\n",
    "attribute_names = list(total_df)[:-1]\n",
    "x = total_df[attribute_names].values\n",
    "y = total_df[\"Class\"].values\n",
    "\n",
    "original_x = np.copy(x)\n",
    "original_y = np.copy(y)"
   ]
  },
  {
   "cell_type": "markdown",
   "metadata": {},
   "source": [
    "References:\n",
    "- [Introduction to K-means Clustering](https://www.datascience.com/blog/k-means-clustering)\n",
    "- [Introduction to k-Nearest Neighbors](https://www.analyticsvidhya.com/blog/2018/03/introduction-k-neighbours-algorithm-clustering/)"
   ]
  },
  {
   "cell_type": "code",
   "execution_count": 3,
   "metadata": {},
   "outputs": [],
   "source": [
    "genre_histograms = {\n",
    "    \"edm\":       np.asarray([1, 0, 0, 0, 0, 0, 0]),\n",
    "    \"hiphop\":    np.asarray([0, 1, 0, 0, 0, 0, 0]),\n",
    "    \"classical\": np.asarray([0, 0, 1, 0, 0, 0, 0]),\n",
    "    \"jazz\":      np.asarray([0, 0, 0, 1, 0, 0, 0]),\n",
    "    \"pop\":       np.asarray([0, 0, 0, 0, 1, 0, 0]),\n",
    "    \"country\":   np.asarray([0, 0, 0, 0, 0, 1, 0]),\n",
    "    \"rock\":      np.asarray([0, 0, 0, 0, 0, 0, 1])\n",
    "}"
   ]
  },
  {
   "cell_type": "code",
   "execution_count": 4,
   "metadata": {},
   "outputs": [],
   "source": [
    "# Genre encoded into one-hot vectors\n",
    "y_encoded = np.array([genre_histograms[genre] for genre in y])"
   ]
  },
  {
   "cell_type": "code",
   "execution_count": 5,
   "metadata": {},
   "outputs": [
    {
     "data": {
      "image/png": "[encoded data removed]",
      "text/plain": [
       "<Figure size 432x288 with 1 Axes>"
      ]
     },
     "metadata": {},
     "output_type": "display_data"
    }
   ],
   "source": [
    "feature_a_indices =  np.where(y == \"classical\")[0]\n",
    "feature_b_indices = np.where(y == \"rock\")[0]\n",
    "feature_a_color = \"cornflowerblue\";\n",
    "feature_b_color = \"salmon\";\n",
    "\n",
    "attribute_names = np.array(attribute_names)\n",
    "energy_attribute_index = np.where(attribute_names == \"energy\")[0][0]\n",
    "danceability_attribute_index = np.where(attribute_names == \"danceability\")[0][0]\n",
    "\n",
    "f = plt.figure()\n",
    "ax = plt.subplot()\n",
    "ax.set_xlabel(\"Energy\")\n",
    "ax.set_ylabel(\"Danceability\")\n",
    "ax.set_title(\"Classical Music (Blue) vs. Rock (Red) in terms of Energy and Danceability\")\n",
    "for i in feature_a_indices:\n",
    "    ax.scatter(original_x[i, energy_attribute_index],\n",
    "               original_x[i, danceability_attribute_index],\n",
    "               color=feature_a_color, edgecolor='k')\n",
    "    \n",
    "for i in feature_b_indices:\n",
    "    ax.scatter(original_x[i, energy_attribute_index],\n",
    "               original_x[i, danceability_attribute_index],\n",
    "               color=feature_b_color, edgecolor='k')\n",
    "plt.show()"
   ]
  },
  {
   "cell_type": "code",
   "execution_count": 59,
   "metadata": {},
   "outputs": [
    {
     "name": "stdout",
     "output_type": "stream",
     "text": [
      "[[0.82964706 0.52821569]\n",
      " [0.09997027 0.32812245]]\n"
     ]
    },
    {
     "data": {
      "image/png": "[encoded data removed]",
      "text/plain": [
       "<Figure size 432x288 with 1 Axes>"
      ]
     },
     "metadata": {},
     "output_type": "display_data"
    }
   ],
   "source": [
    "feature_indices = [*feature_a_indices, *feature_b_indices]\n",
    "\n",
    "f1 = total_df[\"energy\"].values[feature_indices]\n",
    "f2 = total_df[\"danceability\"].values[feature_indices]\n",
    "\n",
    "# to pca??\n",
    "\n",
    "X = np.array(list(zip(f1, f2))).reshape(len(f1), 2)\n",
    "colors = ['r', 'b']\n",
    "\n",
    "# KMeans algorithm \n",
    "K = 2\n",
    "kmeans_model = KMeans(n_clusters=K).fit(X)\n",
    "\n",
    "print(kmeans_model.cluster_centers_)\n",
    "centers = np.array(kmeans_model.cluster_centers_)\n",
    "\n",
    "plt.plot()\n",
    "plt.title('k means centroids')\n",
    "\n",
    "for i, l in enumerate(kmeans_model.labels_):\n",
    "    plt.plot(f1[i], f2[i], color=colors[l], marker='o',ls='None')\n",
    "    plt.xlim([0, 1])\n",
    "    plt.ylim([0, 1])\n",
    "\n",
    "plt.scatter(centers[:,0], centers[:,1], marker=\"x\", color='g')\n",
    "plt.show()"
   ]
  },
  {
   "cell_type": "code",
   "execution_count": null,
   "metadata": {},
   "outputs": [],
   "source": []
  }
 ],
 "metadata": {
  "kernelspec": {
   "display_name": "Python 3",
   "language": "python",
   "name": "python3"
  },
  "language_info": {
   "codemirror_mode": {
    "name": "ipython",
    "version": 3
   },
   "file_extension": ".py",
   "mimetype": "text/x-python",
   "name": "python",
   "nbconvert_exporter": "python",
   "pygments_lexer": "ipython3",
   "version": "3.6.5"
  }
 },
 "nbformat": 4,
 "nbformat_minor": 2
}
