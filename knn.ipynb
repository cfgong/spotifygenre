{
 "cells": [
  {
   "cell_type": "code",
   "execution_count": 6,
   "metadata": {},
   "outputs": [],
   "source": [
    "import pandas as pd\n",
    "import autograd.numpy as np\n",
    "from autograd import grad \n",
    "import matplotlib.pyplot as plt\n",
    "import matplotlib.gridspec as gridspec\n",
    "from common import gradient_descent, plot_cost_histories"
   ]
  },
  {
   "cell_type": "code",
   "execution_count": 257,
   "metadata": {},
   "outputs": [],
   "source": [
    "from sklearn.model_selection import KFold\n",
    "from sklearn.neighbors import KNeighborsClassifier"
   ]
  },
  {
   "cell_type": "code",
   "execution_count": 258,
   "metadata": {},
   "outputs": [
    {
     "name": "stdout",
     "output_type": "stream",
     "text": [
      "Attributes we are considering: ['danceability', 'energy', 'loudness', 'speechiness', 'acousticness', 'instrumentalness', 'liveness', 'valence', 'tempo']\n"
     ]
    }
   ],
   "source": [
    "# Read data\n",
    "DATA_BASE_URL = \"https://raw.githubusercontent.com/sql-injection/spotify_data/master/\"\n",
    "datasets = {\n",
    "    \"train\": DATA_BASE_URL + \"train.csv\",\n",
    "    \"test\": DATA_BASE_URL + \"test.csv\",\n",
    "    \"all\": DATA_BASE_URL + \"spotify.csv\"\n",
    "}\n",
    "\n",
    "total_df = pd.read_csv(datasets[\"all\"])\n",
    "attribute_names = list(total_df)[:-1]\n",
    "x = total_df[attribute_names].values\n",
    "y = total_df[\"Class\"].values[:, np.newaxis]\n",
    "\n",
    "\n",
    "print(\"Attributes we are considering:\", attribute_names[:2] + attribute_names[3:4] + attribute_names[5:-2])\n",
    "x = np.concatenate((x[:, :2], x[:, 3:4], x[:, 5:-2]), axis=1)\n",
    "original_x = np.copy(x)\n",
    "original_y = np.copy(y)"
   ]
  },
  {
   "cell_type": "code",
   "execution_count": 259,
   "metadata": {},
   "outputs": [],
   "source": [
    "class ValidationResult(object):\n",
    "    def __init__(self):\n",
    "        self.accuracy = 0.0\n",
    "        self.results = list()\n",
    "        \n",
    "    def __str__(self):\n",
    "        errors = [(actual, predicted) for actual, predicted in self.results if actual != predicted]\n",
    "        error_length = len(errors)\n",
    "        total_length = len(self.results)\n",
    "        return \"<accuracy={accuracy}, num_incorrect={incorrect}, num_correct={correct}, errors={errors}>\\n\".format(\n",
    "            accuracy=self.accuracy,\n",
    "            incorrect=error_length,\n",
    "            correct=total_length - error_length,\n",
    "            errors=errors\n",
    "        )\n",
    "\n",
    "\n",
    "def accuracy(y_pred, y_test):\n",
    "    correct = 0\n",
    "    total = len(y_test)\n",
    "    v = ValidationResult()\n",
    "    for i in range(total):\n",
    "        v.results.append((y_test[i][0], y_pred[i]))\n",
    "        if y_test[i][0] == y_pred[i]:\n",
    "            correct += 1\n",
    "    v.accuracy = correct / total \n",
    "    return v"
   ]
  },
  {
   "cell_type": "code",
   "execution_count": 260,
   "metadata": {},
   "outputs": [
    {
     "name": "stdout",
     "output_type": "stream",
     "text": [
      "Split 1\n",
      "<accuracy=0.24390243902439024, num_incorrect=31, num_correct=10, errors=[('edm', 'country'), ('edm', 'pop'), ('edm', 'country'), ('edm', 'pop'), ('edm', 'country'), ('edm', 'country'), ('edm', 'country'), ('edm', 'country'), ('edm', 'country'), ('edm', 'country'), ('edm', 'country'), ('edm', 'country'), ('edm', 'country'), ('edm', 'country'), ('edm', 'country'), ('edm', 'jazz'), ('edm', 'country'), ('edm', 'country'), ('edm', 'country'), ('edm', 'country'), ('edm', 'rock'), ('edm', 'country'), ('edm', 'country'), ('edm', 'pop'), ('edm', 'country'), ('edm', 'country'), ('edm', 'country'), ('edm', 'pop'), ('edm', 'rock'), ('edm', 'country'), ('edm', 'country')]>\n",
      "\n",
      "Split 2\n",
      "<accuracy=0.14634146341463414, num_incorrect=35, num_correct=6, errors=[('edm', 'country'), ('edm', 'rock'), ('edm', 'pop'), ('edm', 'country'), ('edm', 'country'), ('edm', 'country'), ('hiphop', 'country'), ('hiphop', 'country'), ('hiphop', 'country'), ('hiphop', 'pop'), ('hiphop', 'country'), ('hiphop', 'country'), ('hiphop', 'pop'), ('hiphop', 'country'), ('hiphop', 'country'), ('hiphop', 'country'), ('hiphop', 'rock'), ('hiphop', 'pop'), ('hiphop', 'edm'), ('hiphop', 'country'), ('hiphop', 'pop'), ('hiphop', 'pop'), ('hiphop', 'edm'), ('hiphop', 'pop'), ('hiphop', 'country'), ('hiphop', 'country'), ('hiphop', 'pop'), ('hiphop', 'edm'), ('hiphop', 'pop'), ('hiphop', 'country'), ('hiphop', 'country'), ('hiphop', 'country'), ('hiphop', 'edm'), ('hiphop', 'country'), ('hiphop', 'rock')]>\n",
      "\n",
      "Split 3\n",
      "<accuracy=0.21951219512195122, num_incorrect=32, num_correct=9, errors=[('hiphop', 'edm'), ('hiphop', 'pop'), ('hiphop', 'edm'), ('hiphop', 'country'), ('hiphop', 'rock'), ('hiphop', 'country'), ('hiphop', 'rock'), ('hiphop', 'pop'), ('hiphop', 'country'), ('hiphop', 'pop'), ('hiphop', 'pop'), ('hiphop', 'rock'), ('hiphop', 'rock'), ('hiphop', 'country'), ('classical', 'jazz'), ('classical', 'jazz'), ('classical', 'jazz'), ('classical', 'jazz'), ('classical', 'jazz'), ('classical', 'jazz'), ('classical', 'jazz'), ('classical', 'country'), ('classical', 'jazz'), ('classical', 'jazz'), ('classical', 'jazz'), ('classical', 'jazz'), ('classical', 'jazz'), ('classical', 'jazz'), ('classical', 'jazz'), ('classical', 'jazz'), ('classical', 'jazz'), ('classical', 'jazz')]>\n",
      "\n",
      "Split 4\n",
      "<accuracy=0.425, num_incorrect=23, num_correct=17, errors=[('classical', 'jazz'), ('classical', 'jazz'), ('classical', 'jazz'), ('classical', 'jazz'), ('classical', 'jazz'), ('classical', 'jazz'), ('classical', 'jazz'), ('classical', 'jazz'), ('classical', 'jazz'), ('classical', 'jazz'), ('classical', 'jazz'), ('classical', 'jazz'), ('classical', 'jazz'), ('classical', 'jazz'), ('classical', 'jazz'), ('classical', 'jazz'), ('classical', 'jazz'), ('classical', 'jazz'), ('classical', 'jazz'), ('classical', 'jazz'), ('classical', 'jazz'), ('jazz', 'country'), ('jazz', 'classical')]>\n",
      "\n",
      "Split 5\n",
      "<accuracy=0.6, num_incorrect=16, num_correct=24, errors=[('jazz', 'classical'), ('jazz', 'classical'), ('jazz', 'classical'), ('jazz', 'country'), ('jazz', 'classical'), ('jazz', 'classical'), ('jazz', 'classical'), ('jazz', 'classical'), ('jazz', 'classical'), ('jazz', 'classical'), ('jazz', 'classical'), ('jazz', 'classical'), ('jazz', 'pop'), ('jazz', 'classical'), ('jazz', 'classical'), ('jazz', 'classical')]>\n",
      "\n",
      "Split 6\n",
      "<accuracy=0.7, num_incorrect=12, num_correct=28, errors=[('jazz', 'classical'), ('jazz', 'classical'), ('jazz', 'classical'), ('jazz', 'classical'), ('jazz', 'classical'), ('jazz', 'classical'), ('jazz', 'classical'), ('jazz', 'classical'), ('jazz', 'classical'), ('jazz', 'edm'), ('jazz', 'country'), ('jazz', 'classical')]>\n",
      "\n",
      "Split 7\n",
      "<accuracy=0.175, num_incorrect=33, num_correct=7, errors=[('pop', 'rock'), ('pop', 'country'), ('pop', 'country'), ('pop', 'edm'), ('pop', 'country'), ('pop', 'hiphop'), ('pop', 'country'), ('pop', 'edm'), ('pop', 'country'), ('pop', 'jazz'), ('pop', 'hiphop'), ('pop', 'edm'), ('pop', 'hiphop'), ('pop', 'country'), ('pop', 'country'), ('pop', 'country'), ('pop', 'hiphop'), ('pop', 'country'), ('pop', 'hiphop'), ('pop', 'rock'), ('pop', 'country'), ('pop', 'country'), ('pop', 'country'), ('pop', 'hiphop'), ('pop', 'rock'), ('pop', 'rock'), ('pop', 'hiphop'), ('pop', 'country'), ('pop', 'rock'), ('pop', 'rock'), ('pop', 'country'), ('pop', 'edm'), ('pop', 'country')]>\n",
      "\n",
      "Split 8\n",
      "<accuracy=0.25, num_incorrect=30, num_correct=10, errors=[('pop', 'hiphop'), ('pop', 'jazz'), ('pop', 'country'), ('pop', 'country'), ('pop', 'edm'), ('pop', 'rock'), ('pop', 'country'), ('pop', 'hiphop'), ('pop', 'hiphop'), ('pop', 'hiphop'), ('pop', 'country'), ('pop', 'country'), ('pop', 'hiphop'), ('pop', 'edm'), ('pop', 'hiphop'), ('pop', 'rock'), ('country', 'hiphop'), ('country', 'rock'), ('country', 'edm'), ('country', 'pop'), ('country', 'edm'), ('country', 'pop'), ('country', 'hiphop'), ('country', 'edm'), ('country', 'edm'), ('country', 'rock'), ('country', 'edm'), ('country', 'edm'), ('country', 'pop'), ('country', 'rock')]>\n",
      "\n",
      "Split 9\n",
      "<accuracy=0.3, num_incorrect=28, num_correct=12, errors=[('country', 'hiphop'), ('country', 'pop'), ('country', 'rock'), ('country', 'rock'), ('country', 'pop'), ('country', 'pop'), ('country', 'hiphop'), ('country', 'hiphop'), ('country', 'hiphop'), ('country', 'hiphop'), ('country', 'hiphop'), ('country', 'pop'), ('country', 'hiphop'), ('country', 'rock'), ('country', 'pop'), ('country', 'pop'), ('country', 'hiphop'), ('country', 'pop'), ('country', 'hiphop'), ('country', 'edm'), ('country', 'hiphop'), ('rock', 'pop'), ('rock', 'country'), ('rock', 'pop'), ('rock', 'pop'), ('rock', 'country'), ('rock', 'hiphop'), ('rock', 'pop')]>\n",
      "\n",
      "Split 10\n",
      "<accuracy=0.0, num_incorrect=40, num_correct=0, errors=[('rock', 'country'), ('rock', 'country'), ('rock', 'country'), ('rock', 'country'), ('rock', 'country'), ('rock', 'edm'), ('rock', 'country'), ('rock', 'country'), ('rock', 'country'), ('rock', 'pop'), ('rock', 'edm'), ('rock', 'hiphop'), ('rock', 'country'), ('rock', 'edm'), ('rock', 'pop'), ('rock', 'pop'), ('rock', 'hiphop'), ('rock', 'edm'), ('rock', 'pop'), ('rock', 'hiphop'), ('rock', 'country'), ('rock', 'country'), ('rock', 'country'), ('rock', 'pop'), ('rock', 'country'), ('rock', 'country'), ('rock', 'pop'), ('rock', 'hiphop'), ('rock', 'pop'), ('rock', 'edm'), ('rock', 'pop'), ('rock', 'pop'), ('rock', 'pop'), ('rock', 'country'), ('rock', 'country'), ('rock', 'hiphop'), ('rock', 'edm'), ('rock', 'country'), ('rock', 'edm'), ('rock', 'country')]>\n",
      "\n",
      "Mean accuracy: 0.30597560975609756\n"
     ]
    }
   ],
   "source": [
    "num_splits = 10\n",
    "num_neighbors = 3\n",
    "kf = KFold(n_splits=num_splits)\n",
    "cross_validations = list()\n",
    "\n",
    "for train_index, test_index in kf.split(x):\n",
    "    # Split into testing and training\n",
    "    x_train, x_test = x[train_index], x[test_index]\n",
    "    y_train, y_test = y[train_index], y[test_index]\n",
    "    \n",
    "    # Fit\n",
    "    classifier = KNeighborsClassifier(n_neighbors=num_neighbors)\n",
    "    classifier.fit(x_train, y_train.ravel())\n",
    "    \n",
    "    # Evaluate\n",
    "    y_pred = classifier.predict(x_test)\n",
    "    cross_validations.append(accuracy(y_pred, y_test))\n",
    "\n",
    "for i, v in enumerate(cross_validations):\n",
    "    print(\"Split\", i + 1)\n",
    "    print(v)\n",
    "    \n",
    "print(\"Mean accuracy:\", np.mean([v.accuracy for v in cross_validations]))"
   ]
  },
  {
   "cell_type": "code",
   "execution_count": null,
   "metadata": {},
   "outputs": [],
   "source": []
  }
 ],
 "metadata": {
  "kernelspec": {
   "display_name": "Python 3",
   "language": "python",
   "name": "python3"
  },
  "language_info": {
   "codemirror_mode": {
    "name": "ipython",
    "version": 3
   },
   "file_extension": ".py",
   "mimetype": "text/x-python",
   "name": "python",
   "nbconvert_exporter": "python",
   "pygments_lexer": "ipython3",
   "version": "3.6.4"
  }
 },
 "nbformat": 4,
 "nbformat_minor": 2
}
