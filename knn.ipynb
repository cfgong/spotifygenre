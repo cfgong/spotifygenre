{
 "cells": [
  {
   "cell_type": "markdown",
   "metadata": {},
   "source": [
    "### K-Nearest Neighbor for Genre Classification\n",
    "In this exercise, we experiment with a k-nearest neighbor learner and evaluate it using 10-fold cross validation. We leverage the Scikit Learn library to build a classifier and separate our data into folds for cross validation.\n",
    "\n",
    "After receiving our mean accuracy, we compare that accuracy with a baseline classification algorithm's (ZeroR) expected accuracy."
   ]
  },
  {
   "cell_type": "code",
   "execution_count": 73,
   "metadata": {},
   "outputs": [],
   "source": [
    "import pandas as pd\n",
    "import autograd.numpy as np\n",
    "import matplotlib.pyplot as plt\n",
    "from sklearn.model_selection import KFold\n",
    "from sklearn.neighbors import KNeighborsClassifier"
   ]
  },
  {
   "cell_type": "code",
   "execution_count": 78,
   "metadata": {},
   "outputs": [],
   "source": [
    "# A helper function to extract attribute columns from our dataset\n",
    "def include_only(x, attribute_names, attribute_subset):\n",
    "    excluded_columns = [i for i, attribute in enumerate(attribute_names) if attribute not in attribute_subset]\n",
    "    return np.delete(x, excluded_columns, axis=1)"
   ]
  },
  {
   "cell_type": "markdown",
   "metadata": {},
   "source": [
    "In this section, we attempt to train a K-Nearest Neighbor Classifier with a select subset of attributes, shown below."
   ]
  },
  {
   "cell_type": "code",
   "execution_count": 80,
   "metadata": {},
   "outputs": [
    {
     "name": "stdout",
     "output_type": "stream",
     "text": [
      "Attributes we are considering: ['danceability', 'energy', 'speechiness', 'valence']\n"
     ]
    }
   ],
   "source": [
    "# Read data\n",
    "DATA_BASE_URL = \"https://raw.githubusercontent.com/sql-injection/spotify_data/master/\"\n",
    "datasets = {\n",
    "    \"train\": DATA_BASE_URL + \"train.csv\",\n",
    "    \"test\": DATA_BASE_URL + \"test.csv\",\n",
    "    \"all\": DATA_BASE_URL + \"spotify.csv\"\n",
    "}\n",
    "\n",
    "total_df = pd.read_csv(datasets[\"all\"])\n",
    "attribute_names = list(total_df)[:-1]\n",
    "x = total_df[attribute_names].values\n",
    "y = total_df[\"Class\"].values[:, np.newaxis]\n",
    "\n",
    "attribute_subset = [\"danceability\", \"energy\", \"speechiness\", \"valence\"]\n",
    "print(\"Attributes we are considering:\", attribute_subset)\n",
    "original_x = np.copy(x)\n",
    "original_y = np.copy(y)\n",
    "x = include_only(original_x, attribute_names, attribute_subset)"
   ]
  },
  {
   "cell_type": "code",
   "execution_count": 81,
   "metadata": {},
   "outputs": [],
   "source": [
    "class ValidationResult(object):\n",
    "    def __init__(self):\n",
    "        self.accuracy = 0.0\n",
    "        self.results = list()\n",
    "        \n",
    "    def __str__(self):\n",
    "        errors = [(actual, predicted) for actual, predicted in self.results if actual != predicted]\n",
    "        error_length = len(errors)\n",
    "        total_length = len(self.results)\n",
    "        return \"<accuracy={accuracy}, num_incorrect={incorrect}, num_correct={correct}, errors={errors}>\\n\".format(\n",
    "            accuracy=self.accuracy,\n",
    "            incorrect=error_length,\n",
    "            correct=total_length - error_length,\n",
    "            errors=errors\n",
    "        )\n",
    "\n",
    "\n",
    "def accuracy(y_pred, y_test):\n",
    "    correct = 0\n",
    "    total = len(y_test)\n",
    "    v = ValidationResult()\n",
    "    for i in range(total):\n",
    "        v.results.append((y_test[i][0], y_pred[i]))\n",
    "        if y_test[i][0] == y_pred[i]:\n",
    "            correct += 1\n",
    "    v.accuracy = correct / total \n",
    "    return v"
   ]
  },
  {
   "cell_type": "markdown",
   "metadata": {},
   "source": [
    "We find the optimal k for our knn classifier to be 2 neighbors. We then perform 10-fold cross validation on our dataset, evaluate the accuracy of each fold, and take the mean accuracy of all folds."
   ]
  },
  {
   "cell_type": "code",
   "execution_count": 71,
   "metadata": {},
   "outputs": [
    {
     "name": "stdout",
     "output_type": "stream",
     "text": [
      "Split 1\n",
      "<accuracy=0.07317073170731707, num_incorrect=38, num_correct=3, errors=[('edm', 'country'), ('edm', 'country'), ('edm', 'country'), ('edm', 'country'), ('edm', 'country'), ('edm', 'country'), ('edm', 'rock'), ('edm', 'country'), ('edm', 'pop'), ('edm', 'country'), ('edm', 'country'), ('edm', 'country'), ('edm', 'rock'), ('edm', 'country'), ('edm', 'pop'), ('edm', 'pop'), ('edm', 'country'), ('edm', 'pop'), ('edm', 'rock'), ('edm', 'rock'), ('edm', 'rock'), ('edm', 'country'), ('edm', 'country'), ('edm', 'country'), ('edm', 'country'), ('edm', 'rock'), ('edm', 'country'), ('edm', 'country'), ('edm', 'country'), ('edm', 'country'), ('edm', 'rock'), ('edm', 'country'), ('edm', 'rock'), ('edm', 'rock'), ('edm', 'rock'), ('edm', 'rock'), ('edm', 'hiphop'), ('edm', 'rock')]>\n",
      "\n",
      "Split 2\n",
      "<accuracy=0.2926829268292683, num_incorrect=29, num_correct=12, errors=[('edm', 'country'), ('edm', 'rock'), ('edm', 'rock'), ('edm', 'pop'), ('edm', 'pop'), ('edm', 'rock'), ('edm', 'rock'), ('hiphop', 'pop'), ('hiphop', 'pop'), ('hiphop', 'pop'), ('hiphop', 'country'), ('hiphop', 'pop'), ('hiphop', 'country'), ('hiphop', 'pop'), ('hiphop', 'pop'), ('hiphop', 'pop'), ('hiphop', 'pop'), ('hiphop', 'pop'), ('hiphop', 'pop'), ('hiphop', 'pop'), ('hiphop', 'pop'), ('hiphop', 'edm'), ('hiphop', 'pop'), ('hiphop', 'pop'), ('hiphop', 'edm'), ('hiphop', 'pop'), ('hiphop', 'rock'), ('hiphop', 'pop'), ('hiphop', 'edm')]>\n",
      "\n",
      "Split 3\n",
      "<accuracy=0.5609756097560976, num_incorrect=18, num_correct=23, errors=[('hiphop', 'classical'), ('hiphop', 'country'), ('hiphop', 'country'), ('hiphop', 'pop'), ('classical', 'jazz'), ('classical', 'jazz'), ('classical', 'jazz'), ('classical', 'jazz'), ('classical', 'jazz'), ('classical', 'jazz'), ('classical', 'jazz'), ('classical', 'jazz'), ('classical', 'jazz'), ('classical', 'jazz'), ('classical', 'country'), ('classical', 'jazz'), ('classical', 'jazz'), ('classical', 'jazz')]>\n",
      "\n",
      "Split 4\n",
      "<accuracy=0.6, num_incorrect=16, num_correct=24, errors=[('classical', 'jazz'), ('classical', 'jazz'), ('classical', 'hiphop'), ('classical', 'jazz'), ('classical', 'jazz'), ('classical', 'jazz'), ('classical', 'jazz'), ('classical', 'jazz'), ('classical', 'jazz'), ('classical', 'jazz'), ('classical', 'jazz'), ('classical', 'jazz'), ('classical', 'jazz'), ('classical', 'jazz'), ('classical', 'jazz'), ('classical', 'jazz')]>\n",
      "\n",
      "Split 5\n",
      "<accuracy=0.8, num_incorrect=8, num_correct=32, errors=[('jazz', 'classical'), ('jazz', 'classical'), ('jazz', 'classical'), ('jazz', 'classical'), ('jazz', 'classical'), ('jazz', 'classical'), ('jazz', 'classical'), ('jazz', 'classical')]>\n",
      "\n",
      "Split 6\n",
      "<accuracy=0.775, num_incorrect=9, num_correct=31, errors=[('jazz', 'classical'), ('jazz', 'classical'), ('jazz', 'classical'), ('jazz', 'classical'), ('jazz', 'pop'), ('jazz', 'classical'), ('jazz', 'classical'), ('jazz', 'classical'), ('jazz', 'classical')]>\n",
      "\n",
      "Split 7\n",
      "<accuracy=0.15, num_incorrect=34, num_correct=6, errors=[('jazz', 'classical'), ('jazz', 'classical'), ('jazz', 'classical'), ('pop', 'country'), ('pop', 'hiphop'), ('pop', 'country'), ('pop', 'country'), ('pop', 'edm'), ('pop', 'edm'), ('pop', 'country'), ('pop', 'country'), ('pop', 'jazz'), ('pop', 'country'), ('pop', 'edm'), ('pop', 'classical'), ('pop', 'hiphop'), ('pop', 'hiphop'), ('pop', 'edm'), ('pop', 'hiphop'), ('pop', 'hiphop'), ('pop', 'rock'), ('pop', 'hiphop'), ('pop', 'country'), ('pop', 'country'), ('pop', 'hiphop'), ('pop', 'hiphop'), ('pop', 'country'), ('pop', 'hiphop'), ('pop', 'hiphop'), ('pop', 'edm'), ('pop', 'country'), ('pop', 'country'), ('pop', 'country'), ('pop', 'edm')]>\n",
      "\n",
      "Split 8\n",
      "<accuracy=0.325, num_incorrect=27, num_correct=13, errors=[('pop', 'rock'), ('pop', 'hiphop'), ('pop', 'jazz'), ('pop', 'country'), ('pop', 'jazz'), ('pop', 'hiphop'), ('pop', 'hiphop'), ('pop', 'hiphop'), ('pop', 'edm'), ('pop', 'hiphop'), ('pop', 'country'), ('pop', 'edm'), ('pop', 'hiphop'), ('pop', 'country'), ('pop', 'hiphop'), ('pop', 'country'), ('country', 'pop'), ('country', 'rock'), ('country', 'pop'), ('country', 'pop'), ('country', 'edm'), ('country', 'edm'), ('country', 'rock'), ('country', 'jazz'), ('country', 'rock'), ('country', 'edm'), ('country', 'rock')]>\n",
      "\n",
      "Split 9\n",
      "<accuracy=0.475, num_incorrect=21, num_correct=19, errors=[('country', 'pop'), ('country', 'edm'), ('country', 'edm'), ('country', 'pop'), ('country', 'rock'), ('country', 'edm'), ('country', 'pop'), ('country', 'edm'), ('country', 'rock'), ('country', 'edm'), ('country', 'pop'), ('country', 'pop'), ('country', 'rock'), ('country', 'edm'), ('rock', 'edm'), ('rock', 'pop'), ('rock', 'edm'), ('rock', 'edm'), ('rock', 'country'), ('rock', 'pop'), ('rock', 'edm')]>\n",
      "\n",
      "Split 10\n",
      "<accuracy=0.0, num_incorrect=40, num_correct=0, errors=[('rock', 'edm'), ('rock', 'pop'), ('rock', 'country'), ('rock', 'country'), ('rock', 'country'), ('rock', 'edm'), ('rock', 'edm'), ('rock', 'edm'), ('rock', 'country'), ('rock', 'pop'), ('rock', 'edm'), ('rock', 'country'), ('rock', 'country'), ('rock', 'edm'), ('rock', 'country'), ('rock', 'country'), ('rock', 'edm'), ('rock', 'edm'), ('rock', 'edm'), ('rock', 'edm'), ('rock', 'edm'), ('rock', 'country'), ('rock', 'country'), ('rock', 'edm'), ('rock', 'country'), ('rock', 'country'), ('rock', 'edm'), ('rock', 'country'), ('rock', 'edm'), ('rock', 'country'), ('rock', 'edm'), ('rock', 'edm'), ('rock', 'country'), ('rock', 'edm'), ('rock', 'edm'), ('rock', 'edm'), ('rock', 'country'), ('rock', 'edm'), ('rock', 'country'), ('rock', 'edm')]>\n",
      "\n",
      "Mean accuracy: 0.40518292682926826\n"
     ]
    }
   ],
   "source": [
    "num_splits = 10\n",
    "num_neighbors = 3\n",
    "kf = KFold(n_splits=num_splits)\n",
    "cross_validations = list()\n",
    "\n",
    "for train_index, test_index in kf.split(x):\n",
    "    # Split into testing and training\n",
    "    x_train, x_test = x[train_index], x[test_index]\n",
    "    y_train, y_test = y[train_index], y[test_index]\n",
    "    \n",
    "    # Fit\n",
    "    classifier = KNeighborsClassifier(n_neighbors=num_neighbors)\n",
    "    classifier.fit(x_train, y_train.ravel())\n",
    "    \n",
    "    # Evaluate\n",
    "    y_pred = classifier.predict(x_test)\n",
    "    cross_validations.append(accuracy(y_pred, y_test))\n",
    "\n",
    "for i, v in enumerate(cross_validations):\n",
    "    print(\"Split\", i + 1)\n",
    "    print(v)\n",
    "    \n",
    "print(\"Mean accuracy:\", np.mean([v.accuracy for v in cross_validations]))"
   ]
  },
  {
   "cell_type": "markdown",
   "metadata": {},
   "source": [
    "Although this accuracy is not ideal, it is higher than the expected ZeroR classification accuracy (in which we choose a single output label for all inputs). For example, the accuracy for ZeroR classification accuracy with EDM, we receive around 12%. We think that the reason for this low accuracy is the high amount of output labels and noise across attribute values. We believe that we classification would be much more accurate at a more granular level, such as a binary classification task between two genres rather than a classification task among 7 genres where there can exist several overlapping characteristics."
   ]
  },
  {
   "cell_type": "code",
   "execution_count": null,
   "metadata": {},
   "outputs": [],
   "source": []
  }
 ],
 "metadata": {
  "kernelspec": {
   "display_name": "Python 3",
   "language": "python",
   "name": "python3"
  },
  "language_info": {
   "codemirror_mode": {
    "name": "ipython",
    "version": 3
   },
   "file_extension": ".py",
   "mimetype": "text/x-python",
   "name": "python",
   "nbconvert_exporter": "python",
   "pygments_lexer": "ipython3",
   "version": "3.6.4"
  }
 },
 "nbformat": 4,
 "nbformat_minor": 2
}
