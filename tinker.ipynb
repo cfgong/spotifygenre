{
 "cells": [
  {
   "cell_type": "markdown",
   "metadata": {},
   "source": [
    "[Get Playlist Tracks](https://developer.spotify.com/console/get-playlist-tracks/)"
   ]
  },
  {
   "cell_type": "code",
   "execution_count": 18,
   "metadata": {},
   "outputs": [],
   "source": [
    "import json\n",
    "import numpy as np\n",
    "import pandas as pd"
   ]
  },
  {
   "cell_type": "code",
   "execution_count": 2,
   "metadata": {},
   "outputs": [],
   "source": [
    "with open('data/songs_lol.json') as json_data:\n",
    "    d = json.load(json_data)"
   ]
  },
  {
   "cell_type": "code",
   "execution_count": 29,
   "metadata": {},
   "outputs": [
    {
     "name": "stdout",
     "output_type": "stream",
     "text": [
      "Song IDs:\n",
      "5sbooPcNgIE22DwO0VNGUJ,69Sy7207dnixZ6w7RSV9Kb,04pjfS3YIK6gXjxi1zHeZa,50cSs6d03KV85oKytBmin9,17hcFa5JZWpaSJ36Bi3nTw,6lGyziqFnIEnZCrBMTuije,32IMcJ5pQ71rOFD0bIdneJ,7xLA7JuahNmSTYqPbL3A42,5idcnkpOPTBhbzb5jTo6uH,2MTWR1QSHAQY8GPrxqFuuV,3pqTtHzszTsy5a2fAa00ne,5VDiKRflCPqiUHtq5OCtX8,25gOpuSDC81sqdipz6SUiO,6s0yNmp4Hd32wGx40T6uL8,1p1FlZKTBBkI6618JN8J9B,4in7zJCCbHJeU5nyvtdoH3,1HxsLny2BRme3bjBzkYCqU,7ouVXhXNlAuTgvG8DwSXC5,1zEpbtg0SO7SsprPKJVHb9,6cQJy6DAlCOWytorgWtBhL,0HFUgGLJNa738pJ1BFf9mV,4VMCXK64FTwROe4qrXhVwA,6B45Rrz6M9VPBX5zvuvV2c,1ZsBcTuBtv9qkHabiwkBm8,7yzRWSrhmYdX0QBYc8oEO9,00HkpFXUSdOuTUCa5IBBSY,7IjZ966d7LLN7olUCCsk2m,62AKVpooMiGJTe5jPRaHVR,3QilWhLj6BJWO19JCPxvcV,6rqVtroIGItaD2obcYl5Kl,0qWUCriNvqaMZrsaltffEZ\n"
     ]
    }
   ],
   "source": [
    "song_ids = []\n",
    "song_names = []\n",
    "\n",
    "for item in d['items']:\n",
    "    song_ids.append(item['track']['id'])\n",
    "    song_names.append(item['track']['name'])\n",
    "\n",
    "print('Song IDs:')\n",
    "print(*song_ids, sep=',')"
   ]
  },
  {
   "cell_type": "markdown",
   "metadata": {},
   "source": [
    "[Get Audio Features for several tracks](https://developer.spotify.com/console/get-audio-features-several-tracks/)"
   ]
  },
  {
   "cell_type": "code",
   "execution_count": 27,
   "metadata": {},
   "outputs": [],
   "source": [
    "feature_ids = []\n",
    "tempo = []\n",
    "with open('data/features_lol.json') as json_data:\n",
    "    f = json.load(json_data)"
   ]
  },
  {
   "cell_type": "code",
   "execution_count": 26,
   "metadata": {},
   "outputs": [
    {
     "name": "stdout",
     "output_type": "stream",
     "text": [
      "['acousticness', 'analysis_url', 'danceability', 'duration_ms', 'energy', 'id', 'instrumentalness', 'key', 'liveness', 'loudness', 'mode', 'speechiness', 'tempo', 'time_signature', 'track_href', 'type', 'uri']\n"
     ]
    }
   ],
   "source": [
    "features_df = pd.DataFrame(f['audio_features'])\n",
    "attribute_names = list(features_df)[:-1]\n",
    "print(attribute_names)"
   ]
  },
  {
   "cell_type": "code",
   "execution_count": null,
   "metadata": {},
   "outputs": [],
   "source": []
  }
 ],
 "metadata": {
  "kernelspec": {
   "display_name": "Python 3",
   "language": "python",
   "name": "python3"
  },
  "language_info": {
   "codemirror_mode": {
    "name": "ipython",
    "version": 3
   },
   "file_extension": ".py",
   "mimetype": "text/x-python",
   "name": "python",
   "nbconvert_exporter": "python",
   "pygments_lexer": "ipython3",
   "version": "3.7.0"
  }
 },
 "nbformat": 4,
 "nbformat_minor": 2
}
